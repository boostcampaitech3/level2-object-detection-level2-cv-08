{
 "cells": [
  {
   "cell_type": "markdown",
   "metadata": {},
   "source": [
    "# import library"
   ]
  },
  {
   "cell_type": "code",
   "execution_count": 1,
   "metadata": {},
   "outputs": [],
   "source": [
    "import os\n",
    "import mmcv\n",
    "import argparse\n",
    "import numpy as np\n",
    "import pandas as pd\n",
    "import seaborn as sns\n",
    "import skimage.io as io\n",
    "import ipywidgets as widgets\n",
    "import matplotlib.pyplot as plt\n",
    "import matplotlib.patches as patches\n",
    "\n",
    "from glob import glob\n",
    "from mmcv.ops import nms\n",
    "from ipywidgets import interact\n",
    "from mmcv import Config, DictAction\n",
    "from mmdet.datasets import build_dataset\n",
    "from matplotlib.ticker import MultipleLocator\n",
    "from mmdet.core.evaluation.bbox_overlaps import bbox_overlaps\n"
   ]
  },
  {
   "cell_type": "markdown",
   "metadata": {},
   "source": [
    "# GT, Predict wrong, right 시각화"
   ]
  },
  {
   "cell_type": "code",
   "execution_count": 2,
   "metadata": {},
   "outputs": [],
   "source": [
    "config_path = '/opt/ml/detection/baseline/mmdetection/configs/1_mymodel/retinanet_r50_fpn_1x_coco.py'\n",
    "# '/opt/ml/detection/baseline/mmdetection/configs/my_model/faster_rcnn_r50_fpn_1x_coco_custom.py'\n",
    "\n",
    "prediction_path = '/opt/ml/detection/baseline/mmdetection/work_dirs/swin_retinanet/result.pkl'\n",
    "# '/opt/ml/detection/baseline/mmdetection/work_dirs/test/result.pkl'\n",
    "\n",
    "# default_setting\n",
    "color_theme='plasma'\n",
    "score_thr = 0.3\n",
    "tp_iou_thr = 0.5\n",
    "nms_iou_thr = None\n",
    "palette = sns.color_palette('bright')\n",
    "classes = (\"General trash\", \"Paper\", \"Paper pack\", \"Metal\", \"Glass\", \n",
    "           \"Plastic\", \"Styrofoam\", \"Plastic bag\", \"Battery\", \"Clothing\")"
   ]
  },
  {
   "cell_type": "code",
   "execution_count": 3,
   "metadata": {},
   "outputs": [
    {
     "name": "stdout",
     "output_type": "stream",
     "text": [
      "loading annotations into memory...\n",
      "Done (t=0.01s)\n",
      "creating index...\n",
      "index created!\n"
     ]
    }
   ],
   "source": [
    "cfg = Config.fromfile(config_path)\n",
    "\n",
    "results = mmcv.load(prediction_path)\n",
    "assert isinstance(results, list)\n",
    "if isinstance(results[0], list):\n",
    "    pass\n",
    "elif isinstance(results[0], tuple):\n",
    "    results = [result[0] for result in results]\n",
    "else:\n",
    "    raise TypeError('invalid type of prediction results')\n",
    "\n",
    "if isinstance(cfg.data.test, dict):\n",
    "    cfg.data.test.test_mode = True\n",
    "elif isinstance(cfg.data.test, list):\n",
    "    for ds_cfg in cfg.data.test:\n",
    "        ds_cfg.test_mode = True\n",
    "dataset = build_dataset(cfg.data.test)"
   ]
  },
  {
   "cell_type": "code",
   "execution_count": 15,
   "metadata": {},
   "outputs": [],
   "source": [
    "def pltSetting(ax, fname):\n",
    "    title = ['GT', 'FN', 'TP', 'FP']\n",
    "    img = io.imread(fname)\n",
    "    for i in range(4):\n",
    "        ax[i].imshow(img)\n",
    "        \n",
    "        ax[i].set_xticks([])\n",
    "        ax[i].set_yticks([])\n",
    "        \n",
    "        ax[i].set_title(title[i])\n"
   ]
  },
  {
   "cell_type": "code",
   "execution_count": 18,
   "metadata": {},
   "outputs": [
    {
     "data": {
      "application/vnd.jupyter.widget-view+json": {
       "model_id": "32470667442d42a8b35822c6e306081e",
       "version_major": 2,
       "version_minor": 0
      },
      "text/plain": [
       "interactive(children=(IntSlider(value=0, description='img_idx', max=571), FloatSlider(value=0.0, description='…"
      ]
     },
     "metadata": {},
     "output_type": "display_data"
    }
   ],
   "source": [
    "@interact(img_idx=(0, len(results)-1), score_thr=(0., 1., 0.05), tp_iou_thr=(0., 1., 0.05), cls_num=(0, 10))\n",
    "def calculate_confusion_matrix(img_idx=0, score_thr=0,tp_iou_thr=0.5, cls_num=10):\n",
    "    \"\"\"Calculate the confusion matrix.\n",
    "\n",
    "    Args:\n",
    "        dataset (Dataset): Test or val dataset.\n",
    "        results (list[ndarray]): A list of detection results in each image.\n",
    "        score_thr (float|optional): Score threshold to filter bboxes.\n",
    "            Default: 0.\n",
    "        nms_iou_thr (float|optional): nms IoU threshold, the detection results\n",
    "            have done nms in the detector, only applied when users want to\n",
    "            change the nms IoU threshold. Default: None.\n",
    "        tp_iou_thr (float|optional): IoU threshold to be considered as matched.\n",
    "            Default: 0.5.\n",
    "    \"\"\"\n",
    "\n",
    "    nms_iou_thr=None\n",
    "    num_classes = len(dataset.CLASSES)\n",
    "    confusion_matrix = np.zeros(shape=[num_classes + 1, num_classes + 1])\n",
    "    assert len(dataset) == len(results)\n",
    "\n",
    "    per_img_res = results[img_idx]\n",
    "    \n",
    "    fname = dataset[img_idx]['img_metas'][0].data['filename'] \n",
    "    # 차례대로 fname을 가져온다.\n",
    "    \n",
    "    if isinstance(per_img_res, tuple):\n",
    "        res_bboxes, _ = per_img_res\n",
    "    else:\n",
    "        res_bboxes = per_img_res\n",
    "    ann = dataset.get_ann_info(img_idx)\n",
    "    gt_bboxes = ann['bboxes']\n",
    "    gt_labels = ann['labels']\n",
    "    \n",
    "    # analyze_per_img_dets(fname, confusion_matrix, gt_bboxes, gt_labels, res_bboxes, cls_num,\n",
    "    #                         score_thr, tp_iou_thr, nms_iou_thr) # cls_num, fname\n",
    "\n",
    "    true_positives = np.zeros_like(gt_labels)\n",
    "    \n",
    "    fig, ax = plt.subplots(2, 2, dpi=250)\n",
    "    ax = ax.flatten()\n",
    "    pltSetting(ax, fname)\n",
    "\n",
    "    for gt_label_idx, gt_bbox in enumerate(gt_bboxes):\n",
    "        gt_label = gt_labels[gt_label_idx]\n",
    "        x,y,x1,y1 = gt_bbox[:4]\n",
    "        ax[0].add_patch(\n",
    "                patches.Rectangle(\n",
    "                    (x,y), x1-x, y1-y,\n",
    "                    edgecolor=palette[gt_label],\n",
    "                    linewidth=1,\n",
    "                    fill=False,\n",
    "                ),\n",
    "            )\n",
    "        text_y = y-30 if y>30 else y+30\n",
    "        plt_text = ax[0].text(x+18,text_y, f'{classes[gt_label]}', color='white', fontsize='4', weight='semibold')\n",
    "        plt_text.set_bbox(dict(\n",
    "            facecolor=palette[gt_label],  # background color\n",
    "            alpha=0.6,  # background alpha\n",
    "            edgecolor='none',  # border color\n",
    "            pad=2\n",
    "        ))\n",
    "\n",
    "    False_negatives = np.zeros_like(gt_labels)\n",
    "\n",
    "    for det_label, det_bboxes in enumerate(res_bboxes):\n",
    "        if(cls_num!=10 and cls_num!=det_label):\n",
    "             continue \n",
    "\n",
    "        ious = bbox_overlaps(det_bboxes[:, :4], gt_bboxes)\n",
    "\n",
    "        # 모든 pred와 gt iou 계산\n",
    "        for i, det_bbox in enumerate(det_bboxes):\n",
    "            score = det_bbox[4]\n",
    "            x,y,x1,y1 = det_bbox[:4]\n",
    "            det_match = 0\n",
    "            if score >= score_thr:\n",
    "                # score가 threshold보다 낮은 거 기본적으로 제거\n",
    "                for j, gt_label in enumerate(gt_labels):\n",
    "                    if ious[i, j] >= tp_iou_thr:\n",
    "                        # 만약 i번째 detected box와 j번째 gt box의 겹치는 정도가 tp_iou_thr보다 크다면 match시켜줌\n",
    "                        if gt_label == det_label:\n",
    "                            # 만약 gt와 detection의 라벨이 같다면\n",
    "                            False_negatives[j]+=1\n",
    "                            det_match += 1\n",
    "                if det_match == 0:  # BG FP\n",
    "                    # gt와 detection이 match된 게 1개도 없다면 Background 1 증가,\n",
    "                    ax_idx = 3\n",
    "                else:\n",
    "                    ax_idx = 2\n",
    "\n",
    "                ax[ax_idx].add_patch(\n",
    "                        patches.Rectangle(\n",
    "                            (x,y), x1-x, y1-y,\n",
    "                            edgecolor=palette[det_label],\n",
    "                            linewidth=1,\n",
    "                            fill=False,\n",
    "                        ),\n",
    "                    )\n",
    "                text_y = y-30 if y>30 else y+30\n",
    "                plt_text = ax[ax_idx].text(x+18,text_y, f'{classes[det_label]}', color='white', fontsize='4', weight='semibold')\n",
    "                plt_text.set_bbox(dict(\n",
    "                    facecolor=palette[det_label],  # background color\n",
    "                    alpha=0.6,  # background alpha\n",
    "                    edgecolor='none',  # border color\n",
    "                    pad=2\n",
    "                ))\n",
    "\n",
    "    for gt_label_idx, gt_bbox in enumerate(gt_bboxes):\n",
    "        if False_negatives[gt_label_idx]!=0:\n",
    "            continue\n",
    "        gt_label = gt_labels[gt_label_idx]\n",
    "        x,y,x1,y1 = gt_bbox[:4]\n",
    "        ax[1].add_patch(\n",
    "                patches.Rectangle(\n",
    "                    (x,y), x1-x, y1-y,\n",
    "                    edgecolor=palette[gt_label],\n",
    "                    linewidth=1,\n",
    "                    fill=False,\n",
    "                ),\n",
    "            )\n",
    "        text_y = y-30 if y>30 else y+30\n",
    "        plt_text = ax[1].text(x+18,text_y, f'{classes[gt_label]}', color='white', fontsize='4', weight='semibold')\n",
    "        plt_text.set_bbox(dict(\n",
    "            facecolor=palette[gt_label],  # background color\n",
    "            alpha=0.6,  # background alpha\n",
    "            edgecolor='none',  # border color\n",
    "            pad=2\n",
    "        ))\n",
    "\n",
    "        \n",
    "\n"
   ]
  },
  {
   "cell_type": "code",
   "execution_count": null,
   "metadata": {},
   "outputs": [],
   "source": [
    "(\"General trash\", \"Paper\", \"Paper pack\", \"Metal\", \"Glass\", \"Plastic\", \"Styrofoam\", \"Plastic bag\", \"Battery\", \"Clothing\")"
   ]
  },
  {
   "cell_type": "markdown",
   "metadata": {},
   "source": [
    "# 틀린 ground truth 통계치 구하기"
   ]
  },
  {
   "cell_type": "code",
   "execution_count": 8,
   "metadata": {},
   "outputs": [
    {
     "data": {
      "text/html": [
       "<div>\n",
       "<style scoped>\n",
       "    .dataframe tbody tr th:only-of-type {\n",
       "        vertical-align: middle;\n",
       "    }\n",
       "\n",
       "    .dataframe tbody tr th {\n",
       "        vertical-align: top;\n",
       "    }\n",
       "\n",
       "    .dataframe thead th {\n",
       "        text-align: right;\n",
       "    }\n",
       "</style>\n",
       "<table border=\"1\" class=\"dataframe\">\n",
       "  <thead>\n",
       "    <tr style=\"text-align: right;\">\n",
       "      <th></th>\n",
       "      <th>fname</th>\n",
       "      <th>label</th>\n",
       "      <th>area</th>\n",
       "      <th>aspect_ratio</th>\n",
       "      <th>bbox_x_min</th>\n",
       "      <th>bbox_y_min</th>\n",
       "      <th>bbox_x_max</th>\n",
       "      <th>bbox_y_max</th>\n",
       "    </tr>\n",
       "  </thead>\n",
       "  <tbody>\n",
       "    <tr>\n",
       "      <th>0</th>\n",
       "      <td>/opt/ml/detection/dataset/train/0042.jpg</td>\n",
       "      <td>Plastic</td>\n",
       "      <td>1090.40010</td>\n",
       "      <td>1.296552</td>\n",
       "      <td>770.3</td>\n",
       "      <td>421.9</td>\n",
       "      <td>799.3</td>\n",
       "      <td>459.5</td>\n",
       "    </tr>\n",
       "    <tr>\n",
       "      <th>1</th>\n",
       "      <td>/opt/ml/detection/dataset/train/0042.jpg</td>\n",
       "      <td>General trash</td>\n",
       "      <td>789.37006</td>\n",
       "      <td>0.471884</td>\n",
       "      <td>750.7</td>\n",
       "      <td>479.8</td>\n",
       "      <td>791.6</td>\n",
       "      <td>499.1</td>\n",
       "    </tr>\n",
       "    <tr>\n",
       "      <th>2</th>\n",
       "      <td>/opt/ml/detection/dataset/train/0042.jpg</td>\n",
       "      <td>General trash</td>\n",
       "      <td>1226.16200</td>\n",
       "      <td>1.259616</td>\n",
       "      <td>397.0</td>\n",
       "      <td>541.1</td>\n",
       "      <td>428.2</td>\n",
       "      <td>580.4</td>\n",
       "    </tr>\n",
       "    <tr>\n",
       "      <th>3</th>\n",
       "      <td>/opt/ml/detection/dataset/train/0062.jpg</td>\n",
       "      <td>Plastic bag</td>\n",
       "      <td>118532.56000</td>\n",
       "      <td>2.302336</td>\n",
       "      <td>0.0</td>\n",
       "      <td>404.8</td>\n",
       "      <td>226.9</td>\n",
       "      <td>927.2</td>\n",
       "    </tr>\n",
       "    <tr>\n",
       "      <th>4</th>\n",
       "      <td>/opt/ml/detection/dataset/train/0062.jpg</td>\n",
       "      <td>Plastic</td>\n",
       "      <td>14162.40200</td>\n",
       "      <td>0.717438</td>\n",
       "      <td>752.4</td>\n",
       "      <td>440.9</td>\n",
       "      <td>892.9</td>\n",
       "      <td>541.7</td>\n",
       "    </tr>\n",
       "    <tr>\n",
       "      <th>5</th>\n",
       "      <td>/opt/ml/detection/dataset/train/0062.jpg</td>\n",
       "      <td>Plastic</td>\n",
       "      <td>18135.09400</td>\n",
       "      <td>1.045558</td>\n",
       "      <td>609.2</td>\n",
       "      <td>337.3</td>\n",
       "      <td>740.9</td>\n",
       "      <td>475.0</td>\n",
       "    </tr>\n",
       "    <tr>\n",
       "      <th>6</th>\n",
       "      <td>/opt/ml/detection/dataset/train/0062.jpg</td>\n",
       "      <td>General trash</td>\n",
       "      <td>8261.10000</td>\n",
       "      <td>0.543390</td>\n",
       "      <td>394.2</td>\n",
       "      <td>640.5</td>\n",
       "      <td>517.5</td>\n",
       "      <td>707.5</td>\n",
       "    </tr>\n",
       "    <tr>\n",
       "      <th>7</th>\n",
       "      <td>/opt/ml/detection/dataset/train/0062.jpg</td>\n",
       "      <td>General trash</td>\n",
       "      <td>2842.10030</td>\n",
       "      <td>0.827645</td>\n",
       "      <td>239.4</td>\n",
       "      <td>655.5</td>\n",
       "      <td>298.0</td>\n",
       "      <td>704.0</td>\n",
       "    </tr>\n",
       "    <tr>\n",
       "      <th>8</th>\n",
       "      <td>/opt/ml/detection/dataset/train/0062.jpg</td>\n",
       "      <td>General trash</td>\n",
       "      <td>5709.06640</td>\n",
       "      <td>0.408630</td>\n",
       "      <td>321.4</td>\n",
       "      <td>664.1</td>\n",
       "      <td>439.6</td>\n",
       "      <td>712.4</td>\n",
       "    </tr>\n",
       "    <tr>\n",
       "      <th>9</th>\n",
       "      <td>/opt/ml/detection/dataset/train/0062.jpg</td>\n",
       "      <td>General trash</td>\n",
       "      <td>45737.79300</td>\n",
       "      <td>0.497856</td>\n",
       "      <td>174.7</td>\n",
       "      <td>692.1</td>\n",
       "      <td>477.8</td>\n",
       "      <td>843.0</td>\n",
       "    </tr>\n",
       "  </tbody>\n",
       "</table>\n",
       "</div>"
      ],
      "text/plain": [
       "                                      fname          label          area  \\\n",
       "0  /opt/ml/detection/dataset/train/0042.jpg        Plastic    1090.40010   \n",
       "1  /opt/ml/detection/dataset/train/0042.jpg  General trash     789.37006   \n",
       "2  /opt/ml/detection/dataset/train/0042.jpg  General trash    1226.16200   \n",
       "3  /opt/ml/detection/dataset/train/0062.jpg    Plastic bag  118532.56000   \n",
       "4  /opt/ml/detection/dataset/train/0062.jpg        Plastic   14162.40200   \n",
       "5  /opt/ml/detection/dataset/train/0062.jpg        Plastic   18135.09400   \n",
       "6  /opt/ml/detection/dataset/train/0062.jpg  General trash    8261.10000   \n",
       "7  /opt/ml/detection/dataset/train/0062.jpg  General trash    2842.10030   \n",
       "8  /opt/ml/detection/dataset/train/0062.jpg  General trash    5709.06640   \n",
       "9  /opt/ml/detection/dataset/train/0062.jpg  General trash   45737.79300   \n",
       "\n",
       "   aspect_ratio  bbox_x_min  bbox_y_min  bbox_x_max  bbox_y_max  \n",
       "0      1.296552       770.3       421.9       799.3       459.5  \n",
       "1      0.471884       750.7       479.8       791.6       499.1  \n",
       "2      1.259616       397.0       541.1       428.2       580.4  \n",
       "3      2.302336         0.0       404.8       226.9       927.2  \n",
       "4      0.717438       752.4       440.9       892.9       541.7  \n",
       "5      1.045558       609.2       337.3       740.9       475.0  \n",
       "6      0.543390       394.2       640.5       517.5       707.5  \n",
       "7      0.827645       239.4       655.5       298.0       704.0  \n",
       "8      0.408630       321.4       664.1       439.6       712.4  \n",
       "9      0.497856       174.7       692.1       477.8       843.0  "
      ]
     },
     "execution_count": 8,
     "metadata": {},
     "output_type": "execute_result"
    }
   ],
   "source": [
    "result_df_path = '/opt/ml/detection/baseline/mmdetection/work_dirs/swin_retinanet/wrong_bbox.csv'\n",
    "result_df = pd.read_csv(result_df_path)\n",
    "\n",
    "result_df['label'] = result_df['label'].apply(lambda x : classes[x])\n",
    "result_df.head(10)"
   ]
  },
  {
   "cell_type": "markdown",
   "metadata": {},
   "source": [
    "# class 별로 못 맞춘 instance min, max, mean 넓이 구하기"
   ]
  },
  {
   "cell_type": "code",
   "execution_count": 9,
   "metadata": {},
   "outputs": [
    {
     "name": "stdout",
     "output_type": "stream",
     "text": [
      "                 min_area     max_area     mean_area\n",
      "label                                               \n",
      "Battery        1839.14880    17349.752  11921.473600\n",
      "Clothing        867.92126   563105.440  74338.699226\n",
      "General trash   562.94977  1047961.700  35280.382768\n",
      "Glass          1686.81840    70205.630  12102.063932\n",
      "Metal           952.20056   103005.836  23388.696046\n",
      "Paper           475.38116  1047961.700  34392.976640\n",
      "Paper pack     1280.27950   900676.940  50514.490059\n",
      "Plastic         426.40040   877720.440  28455.410837\n",
      "Plastic bag     742.25946   824180.900  36033.306154\n",
      "Styrofoam      1064.99940   992374.800  70752.302898\n"
     ]
    }
   ],
   "source": [
    "min_area_per_class = result_df.groupby(['label'])['area'].min()\n",
    "max_area_per_class = result_df.groupby(['label'])['area'].max()\n",
    "mean_aera_per_class = result_df.groupby(['label'])['area'].mean()\n",
    "area_df = pd.DataFrame(columns=['min_area', 'max_area', 'mean_area'])\n",
    "area_df['min_area']=min_area_per_class\n",
    "area_df['max_area']=max_area_per_class\n",
    "area_df['mean_area']=mean_aera_per_class\n",
    "print(area_df)"
   ]
  },
  {
   "cell_type": "markdown",
   "metadata": {},
   "source": [
    "# class 별로 못 맞춘 instance 영역 분포"
   ]
  },
  {
   "cell_type": "code",
   "execution_count": 13,
   "metadata": {},
   "outputs": [
    {
     "data": {
      "text/plain": [
       "<AxesSubplot:xlabel='area', ylabel='label'>"
      ]
     },
     "execution_count": 13,
     "metadata": {},
     "output_type": "execute_result"
    },
    {
     "data": {
      "image/png": "[encoded data removed]",
      "text/plain": [
       "<Figure size 900x600 with 1 Axes>"
      ]
     },
     "metadata": {
      "needs_background": "light"
     },
     "output_type": "display_data"
    }
   ],
   "source": [
    "threshold = 10000\n",
    "cut_result_df =  result_df[result_df['area']<threshold]\n",
    "fig, ax = plt.subplots(1, 1, dpi = 150)\n",
    "sns.boxplot(data=cut_result_df, x='area', y='label', dodge=True, ax=ax)\n",
    "# 최대값을 0.1로 짜르자"
   ]
  },
  {
   "cell_type": "code",
   "execution_count": null,
   "metadata": {},
   "outputs": [],
   "source": []
  }
 ],
 "metadata": {
  "interpreter": {
   "hash": "f5d7164c64e63af887b53f785b7c056834a1b06812e2ab286d66941e0de4c0dd"
  },
  "kernelspec": {
   "display_name": "Python 3.7.11 ('mmdet')",
   "language": "python",
   "name": "python3"
  },
  "language_info": {
   "codemirror_mode": {
    "name": "ipython",
    "version": 3
   },
   "file_extension": ".py",
   "mimetype": "text/x-python",
   "name": "python",
   "nbconvert_exporter": "python",
   "pygments_lexer": "ipython3",
   "version": "3.7.11"
  },
  "orig_nbformat": 4
 },
 "nbformat": 4,
 "nbformat_minor": 2
}
