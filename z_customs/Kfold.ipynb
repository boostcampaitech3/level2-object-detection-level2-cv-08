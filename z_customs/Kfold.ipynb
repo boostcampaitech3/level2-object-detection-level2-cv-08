{
 "cells": [
  {
   "cell_type": "code",
   "execution_count": 97,
   "metadata": {},
   "outputs": [],
   "source": [
    "from sklearn.model_selection import KFold, StratifiedKFold\n",
    "import numpy as np\n",
    "import pandas as pd\n",
    "import numpy as np\n",
    "import json\n",
    "from tqdm import tqdm\n",
    "from pycocotools.coco import COCO\n",
    "import os\n",
    "import json\n",
    "import copy\n",
    "from glob import glob\n",
    "import matplotlib.pyplot as plt\n",
    "import seaborn as sns\n",
    "from iterstrat.ml_stratifiers import MultilabelStratifiedKFold\n"
   ]
  },
  {
   "cell_type": "code",
   "execution_count": 3,
   "metadata": {},
   "outputs": [
    {
     "name": "stdout",
     "output_type": "stream",
     "text": [
      "loading annotations into memory...\n",
      "Done (t=0.18s)\n",
      "creating index...\n",
      "index created!\n",
      "['train/0000.jpg' 'train/0001.jpg' 'train/0002.jpg' ... 'train/4880.jpg'\n",
      " 'train/4881.jpg' 'train/4882.jpg']\n"
     ]
    }
   ],
   "source": [
    "coco = COCO('/opt/ml/detection/dataset/train.json')\n",
    "\n",
    "img_id = coco.getImgIds()\n",
    "img_info = coco.loadImgs(img_id)\n",
    "fnames = [info['file_name'] for info in img_info]"
   ]
  },
  {
   "cell_type": "code",
   "execution_count": 24,
   "metadata": {},
   "outputs": [
    {
     "name": "stdout",
     "output_type": "stream",
     "text": [
      "TRAIN: 4308 TEST: 575\n",
      "TRAIN: 4270 TEST: 613\n",
      "TRAIN: 4229 TEST: 654\n",
      "TRAIN: 4305 TEST: 578\n",
      "TRAIN: 4269 TEST: 614\n",
      "TRAIN: 4253 TEST: 630\n",
      "TRAIN: 4275 TEST: 608\n",
      "TRAIN: 4272 TEST: 611\n",
      "4882\n",
      "[[1. 0. 0. ... 0. 0. 0.]\n",
      " [2. 0. 0. ... 2. 0. 0.]\n",
      " [0. 0. 0. ... 0. 0. 0.]\n",
      " ...\n",
      " [1. 0. 0. ... 0. 0. 0.]\n",
      " [0. 1. 0. ... 3. 0. 0.]\n",
      " [1. 2. 0. ... 1. 0. 0.]]\n"
     ]
    }
   ],
   "source": [
    "ids = np.asarray([info['id'] for info in img_info])\n",
    "len_img = len(ids)\n",
    "\n",
    "def getClsPerImg(coco, ids, len_img): \n",
    "    cls_per_img = np.zeros((len_img, 10))\n",
    "    for id in ids:\n",
    "        ann_id = coco.getAnnIds(imgIds=id)\n",
    "        ann_list = coco.loadAnns(ann_id)\n",
    "        for ann in ann_list:\n",
    "            label = ann['category_id']\n",
    "            cls_per_img[id][label] += 1\n",
    "    return cls_per_img\n",
    "\n",
    "cls_per_img = getClsPerImg(coco, ids, len_img)\n",
    "\n",
    "mskf = MultilabelStratifiedKFold(n_splits=8)\n",
    "for train_index, test_index in mskf.split(ids, cls_per_img):\n",
    "    print(\"TRAIN:\", len(train_index), \"TEST:\", len(test_index))\n",
    "\n",
    "\n",
    "    "
   ]
  },
  {
   "cell_type": "code",
   "execution_count": 65,
   "metadata": {},
   "outputs": [
    {
     "name": "stdout",
     "output_type": "stream",
     "text": [
      "[3457, 5588, 785, 820, 812, 2620, 1121, 4523, 127, 423]\n",
      "[509, 764, 112, 116, 170, 323, 142, 655, 32, 45]\n"
     ]
    }
   ],
   "source": [
    "check_num = [0 for _ in range(10)]\n",
    "for id in train_index:\n",
    "    ann_id = coco.getAnnIds(imgIds=id)\n",
    "    ann_list = coco.loadAnns(ann_id)\n",
    "    for ann in ann_list:\n",
    "        label = ann['category_id']\n",
    "        check_num[label] += 1\n",
    "print(check_num)\n",
    "\n",
    "check_num_test = [0 for _ in range(10)]\n",
    "for id in test_index:\n",
    "    \n",
    "    ann_id = coco.getAnnIds(imgIds=id)\n",
    "    ann_list = coco.loadAnns(ann_id)\n",
    "    for ann in ann_list:\n",
    "        label = ann['category_id']\n",
    "        check_num_test[label] += 1\n",
    "print(check_num_test)"
   ]
  },
  {
   "cell_type": "code",
   "execution_count": null,
   "metadata": {},
   "outputs": [],
   "source": [
    "# train_index, test_index"
   ]
  },
  {
   "cell_type": "code",
   "execution_count": 75,
   "metadata": {},
   "outputs": [
    {
     "name": "stdout",
     "output_type": "stream",
     "text": [
      "dict_keys(['info', 'licenses', 'images', 'categories', 'annotations'])\n"
     ]
    }
   ],
   "source": [
    "with open(os.path.join('/opt/ml/detection/dataset/train.json'), 'r') as read_file:\n",
    "    json_data = json.load(read_file)\n",
    "print(json_data.keys())"
   ]
  },
  {
   "cell_type": "code",
   "execution_count": 93,
   "metadata": {},
   "outputs": [
    {
     "name": "stdout",
     "output_type": "stream",
     "text": [
      "{'image_id': 0, 'category_id': 0, 'area': 257301.66, 'bbox': [197.6, 193.7, 547.8, 469.7], 'iscrowd': 0, 'id': 0}\n"
     ]
    }
   ],
   "source": [
    "json_data_train = copy.deepcopy(json_data)\n",
    "json_data_val = copy.deepcopy(json_data)\n",
    "print(json_data['annotations'][0])\n"
   ]
  },
  {
   "cell_type": "code",
   "execution_count": 95,
   "metadata": {},
   "outputs": [
    {
     "name": "stdout",
     "output_type": "stream",
     "text": [
      "4272\n",
      "611\n",
      "20276\n",
      "2868\n"
     ]
    }
   ],
   "source": [
    "add_train_idx = []\n",
    "add_val_idx = []\n",
    "\n",
    "json_data_train['images']=[]\n",
    "json_data_train['annotations']=[]\n",
    "json_data_val['images']=[]\n",
    "json_data_val['annotations']=[]\n",
    "\n",
    "img_id_train_cnt = 0\n",
    "img_id_val_cnt = 0\n",
    "img_ann_id_match_train = dict()\n",
    "img_ann_id_match_val = dict()\n",
    "for i, data in enumerate(json_data['images']):\n",
    "    temp_info = copy.deepcopy(json_data['images'][i])\n",
    "    if data['id'] in train_index:\n",
    "        json_data_train['images'].append(temp_info)\n",
    "        json_data_train['images'][-1]['id']=img_id_train_cnt\n",
    "        img_ann_id_match_train[data['id']]=img_id_train_cnt\n",
    "        img_id_train_cnt += 1\n",
    "        add_train_idx.append(i)\n",
    "    else:\n",
    "        json_data_val['images'].append(temp_info)\n",
    "        json_data_val['images'][-1]['id']=img_id_val_cnt\n",
    "        img_ann_id_match_val[data['id']]=img_id_val_cnt\n",
    "        img_id_val_cnt += 1\n",
    "        add_val_idx.append(i)\n",
    "\n",
    "ann_id_train_cnt = 0\n",
    "ann_id_val_cnt = 0\n",
    "for i, data in enumerate(json_data['annotations']):\n",
    "    temp_anno = copy.deepcopy(json_data['annotations'][i])\n",
    "    if data['image_id'] in add_train_idx:\n",
    "        json_data_train['annotations'].append(temp_anno)\n",
    "        json_data_train['annotations'][-1]['id']=ann_id_train_cnt\n",
    "        json_data_train['annotations'][-1]['image_id']=img_ann_id_match_train[data['image_id']]\n",
    "        ann_id_train_cnt += 1\n",
    "    else:\n",
    "        json_data_val['annotations'].append(temp_anno)\n",
    "        json_data_val['annotations'][-1]['id']=ann_id_val_cnt\n",
    "        json_data_val['annotations'][-1]['image_id']=img_ann_id_match_val[data['image_id']]\n",
    "        ann_id_val_cnt += 1\n",
    "\n",
    "print(len(json_data_train['images']))\n",
    "print(len(json_data_val['images']))\n",
    "print(len(json_data_train['annotations']))\n",
    "print(len(json_data_val['annotations']))\n"
   ]
  },
  {
   "cell_type": "code",
   "execution_count": 96,
   "metadata": {},
   "outputs": [],
   "source": [
    "with open('/opt/ml/SK_train_annotations.json', 'w', encoding='utf-8') as make_file:\n",
    "    json.dump(json_data_train, make_file, indent='\\t')\n",
    "\n",
    "with open('/opt/ml/SK_val_annotations.json', 'w', encoding='utf-8') as make_file:\n",
    "    json.dump(json_data_val, make_file, indent='\\t')"
   ]
  },
  {
   "cell_type": "code",
   "execution_count": 106,
   "metadata": {},
   "outputs": [
    {
     "name": "stdout",
     "output_type": "stream",
     "text": [
      "loading annotations into memory...\n",
      "Done (t=0.06s)\n",
      "creating index...\n",
      "index created!\n",
      "['General trash', 'Paper', 'Paper pack', 'Metal', 'Glass', 'Plastic', 'Styrofoam', 'Plastic bag', 'Battery', 'Clothing']\n"
     ]
    },
    {
     "data": {
      "application/vnd.jupyter.widget-view+json": {
       "model_id": "f9b98e46d829432dbcb38611c8862fa6",
       "version_major": 2,
       "version_minor": 0
      },
      "text/plain": [
       "interactive(children=(IntSlider(value=2135, description='idx', max=4271), Output()), _dom_classes=('widget-int…"
      ]
     },
     "metadata": {},
     "output_type": "display_data"
    }
   ],
   "source": [
    "coco = COCO('/opt/ml/SK_train_annotations.json')\n",
    "cats = coco.loadCats(coco.getCatIds())\n",
    "nms = [cat['name'] for cat in cats]\n",
    "img_id = coco.getImgIds()\n",
    "img_info = coco.loadImgs(img_id)\n",
    "fnames = [info['file_name'] for info in img_info]\n",
    "print(nms)\n",
    "\n",
    "num_img = len(img_info)\n",
    "from ipywidgets import interact\n",
    "import skimage.io as io\n",
    "import matplotlib.patches as patches\n",
    "\n",
    "@interact(idx=(0, num_img-1))\n",
    "def showImg(idx):\n",
    "    fig, ax = plt.subplots(1, 1, dpi=150)\n",
    "    img = io.imread(os.path.join('/opt/ml/detection/dataset', fnames[idx]))\n",
    "    annIds = coco.getAnnIds(imgIds=idx)\n",
    "    anns = coco.loadAnns(annIds)\n",
    "    \n",
    "    ax.imshow(img)\n",
    "    for ann in anns:\n",
    "        x,y,w,h = ann['bbox']\n",
    "        ax.add_patch(\n",
    "            patches.Rectangle(\n",
    "                (x,y), w, h,\n",
    "                edgecolor='white',\n",
    "                fill=False,\n",
    "                ),\n",
    "            )\n",
    "        text_y = y-30 if y>30 else y+30 \n",
    "        ax.text(x,text_y, nms[ann['category_id']], color='white', fontsize='10')\n",
    "        ax.set_xticks([])\n",
    "        ax.set_yticks([])\n"
   ]
  },
  {
   "cell_type": "code",
   "execution_count": null,
   "metadata": {},
   "outputs": [],
   "source": []
  }
 ],
 "metadata": {
  "interpreter": {
   "hash": "f5d7164c64e63af887b53f785b7c056834a1b06812e2ab286d66941e0de4c0dd"
  },
  "kernelspec": {
   "display_name": "Python 3.7.11 ('mmdet')",
   "language": "python",
   "name": "python3"
  },
  "language_info": {
   "codemirror_mode": {
    "name": "ipython",
    "version": 3
   },
   "file_extension": ".py",
   "mimetype": "text/x-python",
   "name": "python",
   "nbconvert_exporter": "python",
   "pygments_lexer": "ipython3",
   "version": "3.7.11"
  },
  "orig_nbformat": 4
 },
 "nbformat": 4,
 "nbformat_minor": 2
}
