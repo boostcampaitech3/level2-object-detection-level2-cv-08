{
 "cells": [
  {
   "cell_type": "markdown",
   "metadata": {},
   "source": [
    "# import library"
   ]
  },
  {
   "cell_type": "code",
   "execution_count": 87,
   "metadata": {},
   "outputs": [],
   "source": [
    "import os\n",
    "import mmcv\n",
    "import argparse\n",
    "import numpy as np\n",
    "import pandas as pd\n",
    "import seaborn as sns\n",
    "import skimage.io as io\n",
    "import ipywidgets as widgets\n",
    "import matplotlib.pyplot as plt\n",
    "import matplotlib.patches as patches\n",
    "\n",
    "from glob import glob\n",
    "from mmcv.ops import nms\n",
    "from ipywidgets import interact\n",
    "from mmcv import Config, DictAction\n",
    "from mmdet.datasets import build_dataset\n",
    "from matplotlib.ticker import MultipleLocator\n",
    "from mmdet.core.evaluation.bbox_overlaps import bbox_overlaps\n"
   ]
  },
  {
   "cell_type": "markdown",
   "metadata": {},
   "source": [
    "# GT, Predict wrong, right 시각화"
   ]
  },
  {
   "cell_type": "code",
   "execution_count": 3,
   "metadata": {},
   "outputs": [],
   "source": [
    "config_path = 'config 파일 경로'\n",
    "# '/opt/ml/detection/baseline/mmdetection/configs/my_model/faster_rcnn_r50_fpn_1x_coco_custom.py'\n",
    "\n",
    "prediction_path = '피클 파일 경로'\n",
    "# '/opt/ml/detection/baseline/mmdetection/work_dirs/test/result.pkl'\n",
    "\n",
    "# default_setting\n",
    "color_theme='plasma'\n",
    "score_thr = 0.3\n",
    "tp_iou_thr = 0.5\n",
    "nms_iou_thr = None\n",
    "palette = sns.color_palette('bright')\n",
    "classes = (\"General trash\", \"Paper\", \"Paper pack\", \"Metal\", \"Glass\", \n",
    "           \"Plastic\", \"Styrofoam\", \"Plastic bag\", \"Battery\", \"Clothing\")"
   ]
  },
  {
   "cell_type": "code",
   "execution_count": 4,
   "metadata": {},
   "outputs": [
    {
     "name": "stdout",
     "output_type": "stream",
     "text": [
      "loading annotations into memory...\n",
      "Done (t=0.21s)\n",
      "creating index...\n",
      "index created!\n"
     ]
    }
   ],
   "source": [
    "cfg = Config.fromfile(config_path)\n",
    "\n",
    "results = mmcv.load(prediction_path)\n",
    "assert isinstance(results, list)\n",
    "if isinstance(results[0], list):\n",
    "    pass\n",
    "elif isinstance(results[0], tuple):\n",
    "    results = [result[0] for result in results]\n",
    "else:\n",
    "    raise TypeError('invalid type of prediction results')\n",
    "\n",
    "if isinstance(cfg.data.test, dict):\n",
    "    cfg.data.test.test_mode = True\n",
    "elif isinstance(cfg.data.test, list):\n",
    "    for ds_cfg in cfg.data.test:\n",
    "        ds_cfg.test_mode = True\n",
    "dataset = build_dataset(cfg.data.test)"
   ]
  },
  {
   "cell_type": "code",
   "execution_count": 75,
   "metadata": {},
   "outputs": [],
   "source": [
    "def pltSetting(ax, fname):\n",
    "    title = ['GT', 'Pos', 'Neg']\n",
    "    img = io.imread(fname)\n",
    "    for i in range(3):\n",
    "        ax[i].imshow(img)\n",
    "        \n",
    "        ax[i].set_xticks([])\n",
    "        ax[i].set_yticks([])\n",
    "        \n",
    "        ax[i].set_title(title[i])\n"
   ]
  },
  {
   "cell_type": "code",
   "execution_count": 85,
   "metadata": {},
   "outputs": [
    {
     "data": {
      "application/vnd.jupyter.widget-view+json": {
       "model_id": "2fda8f410218429bac493fb11f641f56",
       "version_major": 2,
       "version_minor": 0
      },
      "text/plain": [
       "interactive(children=(IntSlider(value=0, description='img_idx', max=4882), FloatSlider(value=0.0, description=…"
      ]
     },
     "metadata": {},
     "output_type": "display_data"
    }
   ],
   "source": [
    "@interact(img_idx=(0, len(results)-1), score_thr=(0., 1., 0.05), tp_iou_thr=(0., 1., 0.05), cls_num=(0, 10))\n",
    "def calculate_confusion_matrix(img_idx=0, score_thr=0,tp_iou_thr=0.5, cls_num=10):\n",
    "    \"\"\"Calculate the confusion matrix.\n",
    "\n",
    "    Args:\n",
    "        dataset (Dataset): Test or val dataset.\n",
    "        results (list[ndarray]): A list of detection results in each image.\n",
    "        score_thr (float|optional): Score threshold to filter bboxes.\n",
    "            Default: 0.\n",
    "        nms_iou_thr (float|optional): nms IoU threshold, the detection results\n",
    "            have done nms in the detector, only applied when users want to\n",
    "            change the nms IoU threshold. Default: None.\n",
    "        tp_iou_thr (float|optional): IoU threshold to be considered as matched.\n",
    "            Default: 0.5.\n",
    "    \"\"\"\n",
    "\n",
    "    nms_iou_thr=None\n",
    "    num_classes = len(dataset.CLASSES)\n",
    "    confusion_matrix = np.zeros(shape=[num_classes + 1, num_classes + 1])\n",
    "    assert len(dataset) == len(results)\n",
    "\n",
    "    per_img_res = results[img_idx]\n",
    "    fname = dataset[img_idx]['img_metas'][0].data['filename'] \n",
    "    # 차례대로 fname을 가져온다.\n",
    "    \n",
    "    if isinstance(per_img_res, tuple):\n",
    "        res_bboxes, _ = per_img_res\n",
    "    else:\n",
    "        res_bboxes = per_img_res\n",
    "    ann = dataset.get_ann_info(img_idx)\n",
    "    gt_bboxes = ann['bboxes']\n",
    "    gt_labels = ann['labels']\n",
    "    \n",
    "    # analyze_per_img_dets(fname, confusion_matrix, gt_bboxes, gt_labels, res_bboxes, cls_num,\n",
    "    #                         score_thr, tp_iou_thr, nms_iou_thr) # cls_num, fname\n",
    "\n",
    "    true_positives = np.zeros_like(gt_labels)\n",
    "    \n",
    "    fig, ax = plt.subplots(1, 3, dpi=250)\n",
    "    pltSetting(ax, fname)\n",
    "\n",
    "    for gt_label_idx, gt_bbox in enumerate(gt_bboxes):\n",
    "        gt_label = gt_labels[gt_label_idx]\n",
    "        x,y,x1,y1 = gt_bbox[:4]\n",
    "        ax[0].add_patch(\n",
    "                patches.Rectangle(\n",
    "                    (x,y), x1-x, y1-y,\n",
    "                    edgecolor=palette[gt_label],\n",
    "                    linewidth=1,\n",
    "                    fill=False,\n",
    "                ),\n",
    "            )\n",
    "        text_y = y-30 if y>30 else y+30\n",
    "        plt_text = ax[0].text(x+18,text_y, f'{classes[gt_label]}', color='white', fontsize='4', weight='semibold')\n",
    "        plt_text.set_bbox(dict(\n",
    "            facecolor=palette[gt_label],  # background color\n",
    "            alpha=0.6,  # background alpha\n",
    "            edgecolor='none',  # border color\n",
    "            pad=2\n",
    "        ))\n",
    "\n",
    "    for det_label, det_bboxes in enumerate(res_bboxes):\n",
    "        if(cls_num!=10 and cls_num!=det_label):\n",
    "             continue \n",
    "\n",
    "        ious = bbox_overlaps(det_bboxes[:, :4], gt_bboxes)\n",
    "\n",
    "        # 모든 pred와 gt iou 계산\n",
    "        for i, det_bbox in enumerate(det_bboxes):\n",
    "            score = det_bbox[4]\n",
    "            x,y,x1,y1 = det_bbox[:4]\n",
    "            det_match = 0\n",
    "            if score >= score_thr:\n",
    "                # score가 threshold보다 낮은 거 기본적으로 제거\n",
    "                for j, gt_label in enumerate(gt_labels):\n",
    "                    if ious[i, j] >= tp_iou_thr:\n",
    "                        # 만약 i번째 detected box와 j번째 gt box의 겹치는 정도가 tp_iou_thr보다 크다면 match시켜줌\n",
    "                        if gt_label == det_label:\n",
    "                            # 만약 gt와 detection의 라벨이 같다면\n",
    "                            det_match += 1\n",
    "                if det_match == 0:  # BG FP\n",
    "                    # gt와 detection이 match된 게 1개도 없다면 Background 1 증가,\n",
    "                    ax_idx = 2\n",
    "                else:\n",
    "                    ax_idx = 1\n",
    "\n",
    "                ax[ax_idx].add_patch(\n",
    "                        patches.Rectangle(\n",
    "                            (x,y), x1-x, y1-y,\n",
    "                            edgecolor=palette[det_label],\n",
    "                            linewidth=1,\n",
    "                            fill=False,\n",
    "                        ),\n",
    "                    )\n",
    "                text_y = y-30 if y>30 else y+30\n",
    "                plt_text = ax[ax_idx].text(x+18,text_y, f'{classes[det_label]}', color='white', fontsize='4', weight='semibold')\n",
    "                plt_text.set_bbox(dict(\n",
    "                    facecolor=palette[det_label],  # background color\n",
    "                    alpha=0.6,  # background alpha\n",
    "                    edgecolor='none',  # border color\n",
    "                    pad=2\n",
    "                ))\n",
    "\n"
   ]
  },
  {
   "cell_type": "code",
   "execution_count": null,
   "metadata": {},
   "outputs": [],
   "source": [
    "(\"General trash\", \"Paper\", \"Paper pack\", \"Metal\", \"Glass\", \"Plastic\", \"Styrofoam\", \"Plastic bag\", \"Battery\", \"Clothing\")"
   ]
  },
  {
   "cell_type": "markdown",
   "metadata": {},
   "source": [
    "# 틀린 ground truth 통계치 구하기"
   ]
  },
  {
   "cell_type": "code",
   "execution_count": 126,
   "metadata": {},
   "outputs": [
    {
     "data": {
      "text/html": [
       "<div>\n",
       "<style scoped>\n",
       "    .dataframe tbody tr th:only-of-type {\n",
       "        vertical-align: middle;\n",
       "    }\n",
       "\n",
       "    .dataframe tbody tr th {\n",
       "        vertical-align: top;\n",
       "    }\n",
       "\n",
       "    .dataframe thead th {\n",
       "        text-align: right;\n",
       "    }\n",
       "</style>\n",
       "<table border=\"1\" class=\"dataframe\">\n",
       "  <thead>\n",
       "    <tr style=\"text-align: right;\">\n",
       "      <th></th>\n",
       "      <th>fname</th>\n",
       "      <th>label</th>\n",
       "      <th>area</th>\n",
       "      <th>aspect_ratio</th>\n",
       "      <th>bbox_x_min</th>\n",
       "      <th>bbox_y_min</th>\n",
       "      <th>bbox_x_max</th>\n",
       "      <th>bbox_y_max</th>\n",
       "    </tr>\n",
       "  </thead>\n",
       "  <tbody>\n",
       "    <tr>\n",
       "      <th>0</th>\n",
       "      <td>/opt/ml/detection/dataset/train/0001.jpg</td>\n",
       "      <td>Metal</td>\n",
       "      <td>10402.5610</td>\n",
       "      <td>3.135417</td>\n",
       "      <td>0.0</td>\n",
       "      <td>407.4</td>\n",
       "      <td>57.6</td>\n",
       "      <td>588.0</td>\n",
       "    </tr>\n",
       "    <tr>\n",
       "      <th>1</th>\n",
       "      <td>/opt/ml/detection/dataset/train/0001.jpg</td>\n",
       "      <td>Glass</td>\n",
       "      <td>69096.1640</td>\n",
       "      <td>0.918338</td>\n",
       "      <td>722.3</td>\n",
       "      <td>313.4</td>\n",
       "      <td>996.6</td>\n",
       "      <td>565.3</td>\n",
       "    </tr>\n",
       "    <tr>\n",
       "      <th>2</th>\n",
       "      <td>/opt/ml/detection/dataset/train/0001.jpg</td>\n",
       "      <td>Plastic</td>\n",
       "      <td>24164.5880</td>\n",
       "      <td>0.442448</td>\n",
       "      <td>353.2</td>\n",
       "      <td>671.0</td>\n",
       "      <td>586.9</td>\n",
       "      <td>774.4</td>\n",
       "    </tr>\n",
       "    <tr>\n",
       "      <th>3</th>\n",
       "      <td>/opt/ml/detection/dataset/train/0001.jpg</td>\n",
       "      <td>General trash</td>\n",
       "      <td>38908.7230</td>\n",
       "      <td>0.830869</td>\n",
       "      <td>425.3</td>\n",
       "      <td>681.9</td>\n",
       "      <td>641.7</td>\n",
       "      <td>861.7</td>\n",
       "    </tr>\n",
       "    <tr>\n",
       "      <th>4</th>\n",
       "      <td>/opt/ml/detection/dataset/train/0001.jpg</td>\n",
       "      <td>Plastic bag</td>\n",
       "      <td>7391.5170</td>\n",
       "      <td>0.381465</td>\n",
       "      <td>92.4</td>\n",
       "      <td>601.7</td>\n",
       "      <td>231.6</td>\n",
       "      <td>654.8</td>\n",
       "    </tr>\n",
       "    <tr>\n",
       "      <th>5</th>\n",
       "      <td>/opt/ml/detection/dataset/train/0001.jpg</td>\n",
       "      <td>General trash</td>\n",
       "      <td>6857.7600</td>\n",
       "      <td>1.293956</td>\n",
       "      <td>622.4</td>\n",
       "      <td>686.5</td>\n",
       "      <td>695.2</td>\n",
       "      <td>780.7</td>\n",
       "    </tr>\n",
       "    <tr>\n",
       "      <th>6</th>\n",
       "      <td>/opt/ml/detection/dataset/train/0003.jpg</td>\n",
       "      <td>Styrofoam</td>\n",
       "      <td>80710.5700</td>\n",
       "      <td>2.273885</td>\n",
       "      <td>773.3</td>\n",
       "      <td>3.0</td>\n",
       "      <td>961.7</td>\n",
       "      <td>431.4</td>\n",
       "    </tr>\n",
       "    <tr>\n",
       "      <th>7</th>\n",
       "      <td>/opt/ml/detection/dataset/train/0004.jpg</td>\n",
       "      <td>Paper</td>\n",
       "      <td>32987.7660</td>\n",
       "      <td>1.223508</td>\n",
       "      <td>859.4</td>\n",
       "      <td>411.7</td>\n",
       "      <td>1023.6</td>\n",
       "      <td>612.6</td>\n",
       "    </tr>\n",
       "    <tr>\n",
       "      <th>8</th>\n",
       "      <td>/opt/ml/detection/dataset/train/0004.jpg</td>\n",
       "      <td>Paper</td>\n",
       "      <td>32746.9960</td>\n",
       "      <td>1.937692</td>\n",
       "      <td>362.0</td>\n",
       "      <td>349.7</td>\n",
       "      <td>492.0</td>\n",
       "      <td>601.6</td>\n",
       "    </tr>\n",
       "    <tr>\n",
       "      <th>9</th>\n",
       "      <td>/opt/ml/detection/dataset/train/0004.jpg</td>\n",
       "      <td>General trash</td>\n",
       "      <td>4523.6416</td>\n",
       "      <td>0.441700</td>\n",
       "      <td>868.2</td>\n",
       "      <td>521.7</td>\n",
       "      <td>969.4</td>\n",
       "      <td>566.4</td>\n",
       "    </tr>\n",
       "  </tbody>\n",
       "</table>\n",
       "</div>"
      ],
      "text/plain": [
       "                                      fname          label        area  \\\n",
       "0  /opt/ml/detection/dataset/train/0001.jpg          Metal  10402.5610   \n",
       "1  /opt/ml/detection/dataset/train/0001.jpg          Glass  69096.1640   \n",
       "2  /opt/ml/detection/dataset/train/0001.jpg        Plastic  24164.5880   \n",
       "3  /opt/ml/detection/dataset/train/0001.jpg  General trash  38908.7230   \n",
       "4  /opt/ml/detection/dataset/train/0001.jpg    Plastic bag   7391.5170   \n",
       "5  /opt/ml/detection/dataset/train/0001.jpg  General trash   6857.7600   \n",
       "6  /opt/ml/detection/dataset/train/0003.jpg      Styrofoam  80710.5700   \n",
       "7  /opt/ml/detection/dataset/train/0004.jpg          Paper  32987.7660   \n",
       "8  /opt/ml/detection/dataset/train/0004.jpg          Paper  32746.9960   \n",
       "9  /opt/ml/detection/dataset/train/0004.jpg  General trash   4523.6416   \n",
       "\n",
       "   aspect_ratio  bbox_x_min  bbox_y_min  bbox_x_max  bbox_y_max  \n",
       "0      3.135417         0.0       407.4        57.6       588.0  \n",
       "1      0.918338       722.3       313.4       996.6       565.3  \n",
       "2      0.442448       353.2       671.0       586.9       774.4  \n",
       "3      0.830869       425.3       681.9       641.7       861.7  \n",
       "4      0.381465        92.4       601.7       231.6       654.8  \n",
       "5      1.293956       622.4       686.5       695.2       780.7  \n",
       "6      2.273885       773.3         3.0       961.7       431.4  \n",
       "7      1.223508       859.4       411.7      1023.6       612.6  \n",
       "8      1.937692       362.0       349.7       492.0       601.6  \n",
       "9      0.441700       868.2       521.7       969.4       566.4  "
      ]
     },
     "execution_count": 126,
     "metadata": {},
     "output_type": "execute_result"
    }
   ],
   "source": [
    "result_df_path = '/opt/ml/detection/baseline/mmdetection/work_dirs/test/wrong_bbox.csv'\n",
    "result_df = pd.read_csv(result_df_path)\n",
    "\n",
    "result_df['label'] = result_df['label'].apply(lambda x : classes[x])\n",
    "result_df.head(10)"
   ]
  },
  {
   "cell_type": "markdown",
   "metadata": {},
   "source": [
    "# class 별로 못 맞춘 instance min, max, mean 넓이 구하기"
   ]
  },
  {
   "cell_type": "code",
   "execution_count": 136,
   "metadata": {},
   "outputs": [
    {
     "name": "stdout",
     "output_type": "stream",
     "text": [
      "                  min_area    max_area      mean_area\n",
      "label                                                \n",
      "Battery        1639.078600   285908.22   50409.963802\n",
      "Clothing        867.921260  1047961.70  129101.975753\n",
      "General trash   318.160580  1048064.06   28855.559926\n",
      "Glass           666.049560   699923.94   62807.971071\n",
      "Metal           275.119840   656199.56   48018.179786\n",
      "Paper             3.119923  1047961.70   24197.042994\n",
      "Paper pack       66.249850   900676.94   26043.741775\n",
      "Plastic         105.080110  1036086.75   26810.894995\n",
      "Plastic bag     301.708980  1048064.06   24410.115151\n",
      "Styrofoam       682.950560   992374.80   43567.295063\n"
     ]
    }
   ],
   "source": [
    "min_area_per_class = result_df.groupby(['label'])['area'].min()\n",
    "max_area_per_class = result_df.groupby(['label'])['area'].max()\n",
    "mean_aera_per_class = result_df.groupby(['label'])['area'].mean()\n",
    "area_df = pd.DataFrame(columns=['min_area', 'max_area', 'mean_area'])\n",
    "area_df['min_area']=min_area_per_class\n",
    "area_df['max_area']=max_area_per_class\n",
    "area_df['mean_area']=mean_aera_per_class\n",
    "print(area_df)"
   ]
  },
  {
   "cell_type": "markdown",
   "metadata": {},
   "source": [
    "# class 별로 못 맞춘 instance 영역 분포"
   ]
  },
  {
   "cell_type": "code",
   "execution_count": 131,
   "metadata": {},
   "outputs": [
    {
     "data": {
      "text/plain": [
       "<AxesSubplot:xlabel='area', ylabel='label'>"
      ]
     },
     "execution_count": 131,
     "metadata": {},
     "output_type": "execute_result"
    },
    {
     "data": {
      "image/png": "[encoded data removed]",
      "text/plain": [
       "<Figure size 900x600 with 1 Axes>"
      ]
     },
     "metadata": {
      "needs_background": "light"
     },
     "output_type": "display_data"
    }
   ],
   "source": [
    "fig, ax = plt.subplots(1, 1, dpi = 150)\n",
    "sns.boxplot(data=result_df, x='area', y='label', dodge=True, ax=ax)"
   ]
  },
  {
   "cell_type": "code",
   "execution_count": null,
   "metadata": {},
   "outputs": [],
   "source": []
  }
 ],
 "metadata": {
  "interpreter": {
   "hash": "f5d7164c64e63af887b53f785b7c056834a1b06812e2ab286d66941e0de4c0dd"
  },
  "kernelspec": {
   "display_name": "Python 3.7.11 ('mmdet')",
   "language": "python",
   "name": "python3"
  },
  "language_info": {
   "codemirror_mode": {
    "name": "ipython",
    "version": 3
   },
   "file_extension": ".py",
   "mimetype": "text/x-python",
   "name": "python",
   "nbconvert_exporter": "python",
   "pygments_lexer": "ipython3",
   "version": "3.7.11"
  },
  "orig_nbformat": 4
 },
 "nbformat": 4,
 "nbformat_minor": 2
}
