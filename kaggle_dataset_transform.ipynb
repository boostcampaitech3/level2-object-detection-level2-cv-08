{
  "nbformat": 4,
  "nbformat_minor": 0,
  "metadata": {
    "colab": {
      "name": "kaggle_dataset_transform.ipynb",
      "private_outputs": true,
      "provenance": [],
      "collapsed_sections": [
        "Fg7JlxaYuMgY"
      ]
    },
    "kernelspec": {
      "name": "python3",
      "display_name": "Python 3"
    },
    "language_info": {
      "name": "python"
    }
  },
  "cells": [
    {
      "cell_type": "code",
      "source": [
        "%matplotlib inline\n",
        "from pycocotools.coco import COCO\n",
        "import numpy as np\n",
        "import skimage.io as io\n",
        "import matplotlib.pyplot as plt\n",
        "import os\n",
        "from glob import glob\n",
        "from ipywidgets import interact\n",
        "import matplotlib.patches as patches\n",
        "import pandas as pd\n",
        "import json\n",
        "import copy"
      ],
      "metadata": {
        "id": "y9nUSbNWtRuW"
      },
      "execution_count": null,
      "outputs": []
    },
    {
      "cell_type": "code",
      "execution_count": null,
      "metadata": {
        "id": "WYwxRAClsd81"
      },
      "outputs": [],
      "source": [
        "\"\"\"colab은 out of memory 잘 떠서 권장 X\n",
        "\"\"\"\n",
        "from google.colab import drive\n",
        "drive.mount('/content/gdrive/')"
      ]
    },
    {
      "cell_type": "code",
      "source": [
        "\"\"\"zip파일이면 아래 주석 제거\n",
        "\"\"\"\n",
        "#!unzip '../archive.zip' -d './'"
      ],
      "metadata": {
        "id": "rAkCfxEathEL"
      },
      "execution_count": null,
      "outputs": []
    },
    {
      "cell_type": "code",
      "source": [
        "base_path = '/content/gdrive/MyDrive/Boostcamp_AI_tech/10주차-Competition/kaggle_dataset/data'\n",
        "# zip파일 풀고 나온 폴더 경로 (data폴더 path)\n",
        "os.chdir(base_path)\n",
        "# 현재 working directory를 경로 위치로 변경"
      ],
      "metadata": {
        "id": "UTwjmAtxtcUC"
      },
      "execution_count": null,
      "outputs": []
    },
    {
      "cell_type": "markdown",
      "source": [
        "# 이미지 및 원본 라벨 확인 (필수 실행)"
      ],
      "metadata": {
        "id": "Fg7JlxaYuMgY"
      }
    },
    {
      "cell_type": "code",
      "source": [
        "annFile = os.path.join(base_path, 'annotations.json')\n",
        "# 원본 annotation file\n",
        "\n",
        "coco = COCO(annFile)\n",
        "classes = coco.loadCats(coco.getCatIds())\n",
        "classes = [cls['name'] for cls in classes]\n",
        "df = pd.DataFrame(classes)\n",
        "print(df)\n",
        "img_id = coco.getImgIds()\n",
        "img_info = coco.loadImgs(img_id)\n",
        "\n",
        "fnames = [info['file_name'] for info in img_info]\n",
        "ids = [info['id'] for info in img_info]\n",
        "ann_id = coco.getAnnIds(imgIds=ids)\n",
        "annotation_info_list = coco.loadAnns(ann_id)\n",
        "\n",
        "\"\"\"\n",
        "이미지 사이즈가 커서 slide 반응이 좀 느림\n",
        "\"\"\"\n",
        "@interact(idx=(0, len(annotation_info_list)-1))\n",
        "def showImg(idx):\n",
        "    fig, ax = plt.subplots(1, 1, dpi=150)\n",
        "    img_id = annotation_info_list[idx]['image_id']\n",
        "    img = io.imread(os.path.join(base_path, fnames[img_id]))\n",
        "    ax.imshow(img)\n",
        "    \n",
        "    x,y,w,h = annotation_info_list[idx]['bbox']\n",
        "    x,y,w,h = float(x), float(y), float(w), float(h)\n",
        "    ax.add_patch(\n",
        "        patches.Rectangle(\n",
        "            (x,y), w, h,\n",
        "            edgecolor='white',\n",
        "            fill=False,\n",
        "            ),\n",
        "        )\n",
        "    text_y = y-30 if y>30 else y+30 \n",
        "    ax.text(x,text_y, classes[annotation_info_list[idx]['category_id']], color='white', fontsize='5')\n",
        "    ax.set_xticks([])\n",
        "    ax.set_yticks([])"
      ],
      "metadata": {
        "id": "xgzHMq6Nvekm"
      },
      "execution_count": null,
      "outputs": []
    },
    {
      "cell_type": "markdown",
      "source": [
        "# json class id 수정 및 bbox 사이즈 작은 annotation 제거"
      ],
      "metadata": {
        "id": "01sPPSYOuH_T"
      }
    },
    {
      "cell_type": "code",
      "source": [
        "tf_dict={0:[25, 31, 58, 59], \n",
        "         1:[3, 13, 14, 15, 17, 18, 19, 30, 32, 33, 34, 56], \n",
        "         2:[16, 20],\n",
        "         3:[0, 2, 8, 10, 11, 12, 28, 50, 52],\n",
        "         4:[6, 9, 23, 26],\n",
        "         5:[4, 5, 7, 21, 22, 24, 27, 29, 35, 36, 37, 39, 40, 41, 42, 42, 43, 44, 45, 47, 49, 54, 55],\n",
        "         6:[46, 57],\n",
        "         7:[38, 48],\n",
        "         8:[1],\n",
        "         9:[53]\n",
        "         }\n",
        "new_cls = dict()\n",
        "tf_keys=[i for i in range(60)]\n",
        "for i in range(60):\n",
        "    for key, value in zip(tf_dict.keys(), tf_dict.values()):\n",
        "        if i in value:\n",
        "            new_cls[i]=key\n",
        "\n",
        "with open(os.path.join(base_path,'annotations.json'), 'r') as read_file:\n",
        "    json_data = json.load(read_file)\n",
        "\n",
        "json_data_modified = copy.deepcopy(json_data) # 원본 json data\n",
        "json_data_modified['annotations']=[] # 수정하여 저장할 json data\n",
        "\n",
        "# print(json_data.keys())\n",
        "# dict_keys(['info', 'images', 'annotations', 'scene_annotations', 'licenses', 'categories', 'scene_categories'])\n",
        "\n",
        "id_cnt = 1\n",
        "for i, data in enumerate(json_data['annotations']):\n",
        "    img_id = data['image_id']\n",
        "    cls_id = data['category_id']\n",
        "    new_cls_id = new_cls[cls_id] # 10개의 클래스로 기존 클래스 변경\n",
        "\n",
        "    img_area = img_info[img_id]['height']*img_info[img_id]['width'] # 원본 이미지 넓이\n",
        "    instance_area = data['area'] # instance 넓이\n",
        "\n",
        "    if_save_ann = False if instance_area*100 < img_area else True # instance가 너무 작으면 제외하기 위한 flag\n",
        "    if(if_save_ann):\n",
        "        temp = copy.deepcopy(json_data['annotations'][i])\n",
        "        json_data_modified['annotations'].append(temp)\n",
        "        json_data_modified['annotations'][-1]['id']=id_cnt\n",
        "        json_data_modified['annotations'][-1]['category_id']=new_cls_id\n",
        "        id_cnt+=1\n",
        "print(f'>>>>> modification complete!')"
      ],
      "metadata": {
        "id": "8LrhG_MgxbnS"
      },
      "execution_count": null,
      "outputs": []
    },
    {
      "cell_type": "code",
      "source": [
        "\"\"\"\n",
        "bbox 사이즈가 작은 annotation을 지우면서 image는 존재하지만, annotation이 존재하지 경우 발생\n",
        "이 경우, naive faster_rcnn -> getitem에서 문제 발생\n",
        "annotation이 없는 이미지 info는 삭제할 필요가 있음\n",
        "삭제하면서 image id도 0부터 차례대로 다시 설정해주어야 함\n",
        "\"\"\"\n",
        "previous_img_id = 0\n",
        "origin_img_id = []\n",
        "new_img_id = []\n",
        "# annotation이 없는 이미지 id를 확인하고, 0부터 이미지 id를 재생성\n",
        "for i, data in enumerate(json_data_modified['annotations']):\n",
        "    if data['image_id'] not in origin_img_id:\n",
        "        origin_img_id.append(data['image_id'])\n",
        "        new_img_id.append(previous_img_id)\n",
        "        previous_img_id+=1\n",
        "\n",
        "if len(origin_img_id)!=len(new_img_id):\n",
        "    print(f'image index not match.... cannot create new image index!')\n",
        "\n",
        "tf_img_id = dict(zip(origin_img_id, new_img_id))\n",
        "\n",
        "# annotation에 적힌 이미지 id를 재생성한 id로 변경\n",
        "for i, data in enumerate(json_data_modified['annotations']):\n",
        "    json_data_modified['annotations'][i]['image_id'] =tf_img_id[data['image_id']]\n",
        "    \n",
        "\n",
        "# annotation과 일치하도록 image info의 id도 변경\n",
        "json_data_modified['images']=[]\n",
        "for i, data in enumerate(json_data['images']):\n",
        "    if data['id'] in origin_img_id:\n",
        "        temp = copy.deepcopy(json_data['images'][i])\n",
        "        json_data_modified['images'].append(temp)\n",
        "        json_data_modified['images'][-1]['id']=tf_img_id[data['id']]\n",
        "\n",
        "print(f'>>>> (image id & annotation image id) modification complete!!!')"
      ],
      "metadata": {
        "id": "5SMm0Lgp8Wb0"
      },
      "execution_count": null,
      "outputs": []
    },
    {
      "cell_type": "markdown",
      "source": [
        "# json category 수정"
      ],
      "metadata": {
        "id": "UybRS7DmuEDn"
      }
    },
    {
      "cell_type": "code",
      "source": [
        "new_cat_dict = dict()\n",
        "classes = (\"General trash\", \"Paper\", \"Paper pack\", \"Metal\", \"Glass\", \n",
        "           \"Plastic\", \"Styrofoam\", \"Plastic bag\", \"Battery\", \"Clothing\")\n",
        "json_data_modified['categories']=[]\n",
        "\n",
        "for i,cls_name in enumerate(classes):\n",
        "    json_data_modified['categories'].append({'id':i, 'name':cls_name, 'supercategory':cls_name})\n",
        "\n",
        "print(f'>>> category modification complete!!!')"
      ],
      "metadata": {
        "id": "dTI-iUI1osOu"
      },
      "execution_count": null,
      "outputs": []
    },
    {
      "cell_type": "markdown",
      "source": [
        "# 수정한 json 저장"
      ],
      "metadata": {
        "id": "7YUE8bXluhDN"
      }
    },
    {
      "cell_type": "code",
      "source": [
        "with open('./new_annotations.json', 'w', encoding='utf-8') as make_file:\n",
        "    json.dump(json_data_modified, make_file, indent='\\t')\n",
        "print(f'>>>> output file name : new_annoations.json')"
      ],
      "metadata": {
        "id": "IJWxXx5es_YP"
      },
      "execution_count": null,
      "outputs": []
    },
    {
      "cell_type": "code",
      "source": [
        ""
      ],
      "metadata": {
        "id": "qOjjn4aD1FNE"
      },
      "execution_count": null,
      "outputs": []
    }
  ]
}