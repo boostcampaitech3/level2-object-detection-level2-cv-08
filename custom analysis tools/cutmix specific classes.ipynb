{
 "cells": [
  {
   "cell_type": "markdown",
   "metadata": {},
   "source": [
    "# battery, glass, plastic, metal cutmix하기"
   ]
  },
  {
   "cell_type": "code",
   "execution_count": 1,
   "metadata": {},
   "outputs": [],
   "source": [
    "import numpy as np\n",
    "import pandas as pd\n",
    "import numpy as np\n",
    "import json\n",
    "from tqdm import tqdm\n",
    "from pycocotools.coco import COCO\n",
    "import os\n",
    "import json\n",
    "import copy\n",
    "from glob import glob\n",
    "from PIL import Image, ImageOps\n",
    "import matplotlib.pyplot as plt\n",
    "import seaborn as sns\n",
    "import copy\n",
    "import matplotlib.patches as patches\n",
    "import albumentations as A\n",
    "import cv2\n",
    "from tqdm import tqdm"
   ]
  },
  {
   "cell_type": "code",
   "execution_count": 2,
   "metadata": {},
   "outputs": [
    {
     "name": "stdout",
     "output_type": "stream",
     "text": [
      "loading annotations into memory...\n",
      "Done (t=0.19s)\n",
      "creating index...\n",
      "index created!\n",
      "dict_keys(['info', 'licenses', 'images', 'categories', 'annotations'])\n",
      "4883 {'width': 1024, 'height': 1024, 'file_name': 'train/4882.jpg', 'license': 0, 'flickr_url': None, 'coco_url': None, 'date_captured': '2020-12-23 16:20:30', 'id': 4882}\n",
      "23102 {'image_id': 4882, 'category_id': 1, 'area': 149633.22, 'bbox': [145.4, 295.4, 420.2, 356.1], 'iscrowd': 0, 'id': 23143}\n"
     ]
    }
   ],
   "source": [
    "coco = COCO('/opt/ml/detection/dataset/train_revision.json')\n",
    "\n",
    "img_id = coco.getImgIds()\n",
    "img_info = coco.loadImgs(img_id)\n",
    "fnames = [info['file_name'] for info in img_info]\n",
    "\n",
    "with open(os.path.join('/opt/ml/detection/dataset/train_revision.json'), 'r') as read_file:\n",
    "    json_data = json.load(read_file)\n",
    "new_json_data = copy.deepcopy(json_data)\n",
    "print(json_data.keys())\n",
    "print(len(json_data['images']), json_data['images'][-1])\n",
    "print(len(json_data['annotations']), json_data['annotations'][-1])"
   ]
  },
  {
   "cell_type": "code",
   "execution_count": 3,
   "metadata": {},
   "outputs": [],
   "source": [
    "annotations = copy.deepcopy(json_data['annotations'])"
   ]
  },
  {
   "cell_type": "code",
   "execution_count": 4,
   "metadata": {},
   "outputs": [],
   "source": [
    "cat_ids = [3, 4, 5, 8] # Metal, Glass, Plastic, Battery\n",
    "annotation_id_per_cls = [[] for _ in range(10)]\n",
    "for ann in json_data['annotations']:\n",
    "    if ann['category_id'] in cat_ids:\n",
    "        annotation_id_per_cls[ann['category_id']].append(ann['id'])\n"
   ]
  },
  {
   "cell_type": "code",
   "execution_count": 5,
   "metadata": {},
   "outputs": [],
   "source": [
    "classes = (\"General trash\", \"Paper\", \"Paper pack\", \"Metal\", \"Glass\", \"Plastic\", \"Styrofoam\", \"Plastic bag\", \"Battery\", \"Clothing\")"
   ]
  },
  {
   "cell_type": "code",
   "execution_count": 6,
   "metadata": {},
   "outputs": [
    {
     "name": "stdout",
     "output_type": "stream",
     "text": [
      "General trash : 0\n",
      "Paper : 0\n",
      "Paper pack : 0\n",
      "Metal : 930\n",
      "Glass : 977\n",
      "Plastic : 2948\n",
      "Styrofoam : 0\n",
      "Plastic bag : 0\n",
      "Battery : 320\n",
      "Clothing : 0\n"
     ]
    }
   ],
   "source": [
    "annotation_id_per_cls[8].extend(annotation_id_per_cls[8])\n",
    "for i in range(10):\n",
    "    num = len(annotation_id_per_cls[i])\n",
    "    print(f\"{classes[i]} : {num}\")"
   ]
  },
  {
   "cell_type": "code",
   "execution_count": 7,
   "metadata": {},
   "outputs": [],
   "source": [
    "metal_idx = np.random.choice(annotation_id_per_cls[3], len(annotation_id_per_cls[8]), replace=False)\n",
    "glass_idx = np.random.choice(annotation_id_per_cls[4], len(annotation_id_per_cls[8]), replace=False)\n",
    "battery_idx = np.random.choice(annotation_id_per_cls[8], len(annotation_id_per_cls[8]), replace=False)"
   ]
  },
  {
   "cell_type": "code",
   "execution_count": 8,
   "metadata": {},
   "outputs": [
    {
     "name": "stdout",
     "output_type": "stream",
     "text": [
      "4883\n"
     ]
    }
   ],
   "source": [
    "new_img_id = 4883\n",
    "new_ann_img_id = len(new_json_data['images'])\n",
    "new_ann_id = len(new_json_data['annotations'])\n",
    "print(new_ann_img_id)"
   ]
  },
  {
   "cell_type": "code",
   "execution_count": 9,
   "metadata": {},
   "outputs": [
    {
     "name": "stderr",
     "output_type": "stream",
     "text": [
      "100%|██████████| 320/320 [00:30<00:00, 10.59it/s]\n"
     ]
    }
   ],
   "source": [
    "for m, g, b in tqdm(zip(metal_idx, glass_idx, battery_idx), total=len(battery_idx)):\n",
    "    m_ann = annotations[m]\n",
    "    g_ann = annotations[g]\n",
    "    b_ann = annotations[b]\n",
    "    \n",
    "    category_id = [3, 4, 8]\n",
    "\n",
    "    boxes_mgb = []\n",
    "    m_bboxes = annotations[m]['bbox']\n",
    "    g_bboxes = annotations[g]['bbox']\n",
    "    b_bboxes = annotations[b]['bbox']\n",
    "    \n",
    "    boxes_mgb.append(m_bboxes)\n",
    "    boxes_mgb.append(g_bboxes)\n",
    "    boxes_mgb.append(b_bboxes)\n",
    "\n",
    "    imgs_mgb = []\n",
    "    imgs_mgb.append(Image.open(os.path.join('/opt/ml/detection/dataset', coco.loadImgs(m_ann['image_id'])[0]['file_name'])).crop((m_bboxes[0], m_bboxes[1], m_bboxes[2]+m_bboxes[0], m_bboxes[3]+m_bboxes[1])))\n",
    "    imgs_mgb.append(Image.open(os.path.join('/opt/ml/detection/dataset', coco.loadImgs(g_ann['image_id'])[0]['file_name'])).crop((g_bboxes[0], g_bboxes[1], g_bboxes[2]+g_bboxes[0], g_bboxes[3]+g_bboxes[1])))\n",
    "    imgs_mgb.append(Image.open(os.path.join('/opt/ml/detection/dataset', coco.loadImgs(b_ann['image_id'])[0]['file_name'])).crop((b_bboxes[0], b_bboxes[1], b_bboxes[2]+b_bboxes[0], b_bboxes[3]+b_bboxes[1])))\n",
    "\n",
    "    new_boxes_mgb = []\n",
    "    for idx, img in enumerate(imgs_mgb):\n",
    "        random_flip = np.random.randint(0, 2)\n",
    "        img_h, img_w = np.array(img).shape[:2]\n",
    "        fixed_size = 400\n",
    "        if img_h >= img_w:\n",
    "            ratio = fixed_size / img_h\n",
    "            img_h = fixed_size\n",
    "            img_w = int(img_w*ratio)+1 if int(img_w*ratio)%2!=0 else int(img_w*ratio)\n",
    "            \n",
    "        else:\n",
    "            ratio = fixed_size / img_w\n",
    "            img_w = fixed_size\n",
    "            img_h = int(img_h*ratio)+1 if int(img_h*ratio)%2!=0 else int(img_h*ratio)\n",
    "        tb_pad = (512-img_h)//2\n",
    "        lr_pad = (512-img_w)//2\n",
    "        \n",
    "        img = img.resize((img_w,img_h))\n",
    "        img_np = np.asarray(img)\n",
    "        img_np = np.pad(img_np, (((tb_pad, tb_pad),(lr_pad, lr_pad), (0,0))))\n",
    "        \n",
    "        # print(random_flip)\n",
    "        imgs_mgb[idx] = np.flip(img_np, axis=random_flip)\n",
    "\n",
    "        new_boxes_mgb.append([lr_pad, tb_pad, img_w, img_h])\n",
    "\n",
    "    # fig, ax = plt.subplots(1, 1, dpi=150)\n",
    "    \n",
    "    imgs_mgb.append(np.zeros_like(imgs_mgb[0]))\n",
    "    new_boxes_mgb.append([])\n",
    "    order = np.random.choice(np.arange(4), 4, replace=False)\n",
    "    \n",
    "    concatenated_img = np.concatenate( (np.concatenate((imgs_mgb[order[0]], imgs_mgb[order[1]]), axis=1), np.concatenate((imgs_mgb[order[2]], imgs_mgb[order[3]]), axis=1)) , axis=0)\n",
    "    \n",
    "\n",
    "    for i in range(4):\n",
    "        if len(new_boxes_mgb[order[i]])==0:\n",
    "            continue\n",
    "        x = i%2\n",
    "        y = i//2\n",
    "        new_boxes_mgb[order[i]][0],new_boxes_mgb[order[i]][1]  = new_boxes_mgb[order[i]][0]+x*512, new_boxes_mgb[order[i]][1]+y*512 \n",
    "\n",
    "    fname = os.path.join('/opt/ml/detection/dataset/train', str(new_img_id)+'.jpg')\n",
    "    \n",
    "    PIL_img = Image.fromarray(concatenated_img)\n",
    "    PIL_img.save(fname)\n",
    "    \n",
    "    temp = copy.deepcopy(new_json_data['images'][0])\n",
    "    temp['file_name'] = 'train' + '/' + str(new_img_id) + '.jpg'\n",
    "    temp['id'] = new_ann_img_id\n",
    "    new_json_data['images'].append(temp)\n",
    "\n",
    "    for idx, boxes in enumerate(new_boxes_mgb):\n",
    "        temp = copy.deepcopy(new_json_data['annotations'][0])\n",
    "        if(len(boxes)==0):\n",
    "            continue\n",
    "        temp['image_id'] = new_ann_img_id\n",
    "        temp['category_id'] = category_id[idx]\n",
    "        temp['area'] = boxes[2]*boxes[3]\n",
    "        temp['bbox'] = boxes\n",
    "        temp['id'] = new_ann_id\n",
    "        new_json_data['annotations'].append(temp)\n",
    "        new_ann_id += 1\n",
    "    new_ann_img_id += 1\n",
    "    new_img_id += 1\n",
    "    \n"
   ]
  },
  {
   "cell_type": "code",
   "execution_count": 10,
   "metadata": {},
   "outputs": [],
   "source": [
    "with open('/opt/ml/detection/dataset/negative_mining.json', 'w', encoding='utf-8') as make_file:\n",
    "        json.dump(new_json_data, make_file, indent='\\t')"
   ]
  },
  {
   "cell_type": "code",
   "execution_count": 115,
   "metadata": {},
   "outputs": [],
   "source": [
    "# dict_keys(['info', 'licenses', 'images', 'categories', 'annotations'])\n",
    "# 4883 {'width': 1024, 'height': 1024, 'file_name': 'train/4882.jpg', 'license': 0, 'flickr_url': None, 'coco_url': None, 'date_captured': '2020-12-23 16:20:30', 'id': 4882}\n",
    "# 23144 {'image_id': 4882, 'category_id': 1, 'area': 149633.22, 'bbox': [145.4, 295.4, 420.2, 356.1], 'iscrowd': 0, 'id': 23143}"
   ]
  },
  {
   "cell_type": "code",
   "execution_count": null,
   "metadata": {},
   "outputs": [],
   "source": []
  }
 ],
 "metadata": {
  "interpreter": {
   "hash": "f5d7164c64e63af887b53f785b7c056834a1b06812e2ab286d66941e0de4c0dd"
  },
  "kernelspec": {
   "display_name": "Python 3.7.11 ('mmdet')",
   "language": "python",
   "name": "python3"
  },
  "language_info": {
   "codemirror_mode": {
    "name": "ipython",
    "version": 3
   },
   "file_extension": ".py",
   "mimetype": "text/x-python",
   "name": "python",
   "nbconvert_exporter": "python",
   "pygments_lexer": "ipython3",
   "version": "3.7.11"
  },
  "orig_nbformat": 4
 },
 "nbformat": 4,
 "nbformat_minor": 2
}
