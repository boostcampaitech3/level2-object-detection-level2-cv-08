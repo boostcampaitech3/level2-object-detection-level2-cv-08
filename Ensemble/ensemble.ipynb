{
 "cells": [
  {
   "cell_type": "code",
   "execution_count": 1,
   "metadata": {},
   "outputs": [
    {
     "name": "stdout",
     "output_type": "stream",
     "text": [
      "Collecting ensemble_boxes\n",
      "  Downloading ensemble_boxes-1.0.8-py3-none-any.whl (21 kB)\n",
      "Requirement already satisfied: numpy in /opt/conda/envs/detection/lib/python3.7/site-packages (from ensemble_boxes) (1.21.2)\n",
      "Collecting numba\n",
      "  Downloading numba-0.55.1-1-cp37-cp37m-manylinux2014_x86_64.manylinux_2_17_x86_64.whl (3.3 MB)\n",
      "\u001b[K     |████████████████████████████████| 3.3 MB 20.8 MB/s eta 0:00:01\n",
      "\u001b[?25hRequirement already satisfied: pandas in /opt/conda/envs/detection/lib/python3.7/site-packages (from ensemble_boxes) (1.3.5)\n",
      "Requirement already satisfied: setuptools in /opt/conda/envs/detection/lib/python3.7/site-packages (from numba->ensemble_boxes) (58.0.4)\n",
      "Collecting llvmlite<0.39,>=0.38.0rc1\n",
      "  Downloading llvmlite-0.38.0-cp37-cp37m-manylinux_2_17_x86_64.manylinux2014_x86_64.whl (34.5 MB)\n",
      "\u001b[K     |████████████████████████████████| 34.5 MB 76.3 MB/s eta 0:00:01    |█▉                              | 1.9 MB 76.3 MB/s eta 0:00:01     |███▉                            | 4.2 MB 76.3 MB/s eta 0:00:01\n",
      "\u001b[?25hRequirement already satisfied: python-dateutil>=2.7.3 in /opt/conda/envs/detection/lib/python3.7/site-packages (from pandas->ensemble_boxes) (2.8.2)\n",
      "Requirement already satisfied: pytz>=2017.3 in /opt/conda/envs/detection/lib/python3.7/site-packages (from pandas->ensemble_boxes) (2021.3)\n",
      "Requirement already satisfied: six>=1.5 in /opt/conda/envs/detection/lib/python3.7/site-packages (from python-dateutil>=2.7.3->pandas->ensemble_boxes) (1.16.0)\n",
      "Installing collected packages: llvmlite, numba, ensemble-boxes\n",
      "Successfully installed ensemble-boxes-1.0.8 llvmlite-0.38.0 numba-0.55.1\n",
      "\u001b[33mWARNING: Running pip as the 'root' user can result in broken permissions and conflicting behaviour with the system package manager. It is recommended to use a virtual environment instead: https://pip.pypa.io/warnings/venv\u001b[0m\n"
     ]
    }
   ],
   "source": [
    "!pip install ensemble_boxes"
   ]
  },
  {
   "cell_type": "code",
   "execution_count": 1,
   "metadata": {},
   "outputs": [],
   "source": [
    "import pandas as pd\n",
    "from ensemble_boxes import *\n",
    "import numpy as np\n",
    "from pycocotools.coco import COCO"
   ]
  },
  {
   "cell_type": "code",
   "execution_count": 2,
   "metadata": {},
   "outputs": [],
   "source": [
    "# ensemble csv files\n",
    "submission_files = ['./cascade_rcnn.csv',\n",
    "                   './atss_dyhead.csv'] # submission lists\n",
    "submission_df = [pd.read_csv(file) for file in submission_files]\n",
    "\n",
    "ensemble_submission = './atss_dyhead+cascade_rcnn_0.05.csv'"
   ]
  },
  {
   "cell_type": "code",
   "execution_count": 3,
   "metadata": {},
   "outputs": [],
   "source": [
    "image_ids = submission_df[0]['image_id'].tolist()"
   ]
  },
  {
   "cell_type": "code",
   "execution_count": 5,
   "metadata": {},
   "outputs": [
    {
     "name": "stdout",
     "output_type": "stream",
     "text": [
      "loading annotations into memory...\n",
      "Done (t=0.01s)\n",
      "creating index...\n",
      "index created!\n"
     ]
    }
   ],
   "source": [
    "# ensemble 할 file의 image 정보를 불러오기 위한 json\n",
    "annotation = '/opt/ml/detection/dataset/test.json'\n",
    "coco = COCO(annotation)"
   ]
  },
  {
   "cell_type": "code",
   "execution_count": 6,
   "metadata": {},
   "outputs": [],
   "source": [
    "prediction_strings = []\n",
    "file_names = []\n",
    "# ensemble 시 설정할 iou threshold 이 부분을 바꿔가며 대회 metric에 알맞게 적용해봐요!\n",
    "iou_thr = 0.6\n",
    "\n",
    "# 각 image id 별로 submission file에서 box좌표 추출\n",
    "for i, image_id in enumerate(image_ids):\n",
    "    prediction_string = ''\n",
    "    boxes_list = []\n",
    "    scores_list = []\n",
    "    labels_list = []\n",
    "    image_info = coco.loadImgs(i)[0]\n",
    "#     각 submission file 별로 prediction box좌표 불러오기\n",
    "    for df in submission_df:\n",
    "        predict_string = df[df['image_id'] == image_id]['PredictionString'].tolist()[0]\n",
    "        predict_list = str(predict_string).split()\n",
    "        \n",
    "        if len(predict_list)==0 or len(predict_list)==1:\n",
    "            continue\n",
    "            \n",
    "        predict_list = np.reshape(predict_list, (-1, 6))\n",
    "        box_list = []\n",
    "        \n",
    "        for box in predict_list[:, 2:6].tolist():\n",
    "            box[0] = float(box[0]) / image_info['width']\n",
    "            box[1] = float(box[1]) / image_info['height']\n",
    "            box[2] = float(box[2]) / image_info['width']\n",
    "            box[3] = float(box[3]) / image_info['height']\n",
    "            box_list.append(box)\n",
    "            \n",
    "        boxes_list.append(box_list)\n",
    "        scores_list.append(list(map(float, predict_list[:, 1].tolist())))\n",
    "        labels_list.append(list(map(int, predict_list[:, 0].tolist())))\n",
    "    \n",
    "#     예측 box가 있다면 이를 ensemble 수행\n",
    "    if len(boxes_list):\n",
    "        boxes, scores, labels = weighted_boxes_fusion(boxes_list, scores_list, labels_list, iou_thr=iou_thr)\n",
    "        for box, score, label in zip(boxes, scores, labels):\n",
    "            prediction_string += str(int(label)) + ' ' + str(score) + ' ' + str(box[0] * image_info['width']) + ' ' + str(box[1] * image_info['height']) + ' ' + str(box[2] * image_info['width']) + ' ' + str(box[3] * image_info['height']) + ' '\n",
    "    \n",
    "    prediction_strings.append(prediction_string)\n",
    "    file_names.append(image_id)"
   ]
  },
  {
   "cell_type": "code",
   "execution_count": 7,
   "metadata": {},
   "outputs": [
    {
     "data": {
      "text/html": [
       "<div>\n",
       "<style scoped>\n",
       "    .dataframe tbody tr th:only-of-type {\n",
       "        vertical-align: middle;\n",
       "    }\n",
       "\n",
       "    .dataframe tbody tr th {\n",
       "        vertical-align: top;\n",
       "    }\n",
       "\n",
       "    .dataframe thead th {\n",
       "        text-align: right;\n",
       "    }\n",
       "</style>\n",
       "<table border=\"1\" class=\"dataframe\">\n",
       "  <thead>\n",
       "    <tr style=\"text-align: right;\">\n",
       "      <th></th>\n",
       "      <th>PredictionString</th>\n",
       "      <th>image_id</th>\n",
       "    </tr>\n",
       "  </thead>\n",
       "  <tbody>\n",
       "    <tr>\n",
       "      <th>0</th>\n",
       "      <td>7 0.9127387404441833 606.1720581054688 507.687...</td>\n",
       "      <td>test/0000.jpg</td>\n",
       "    </tr>\n",
       "    <tr>\n",
       "      <th>1</th>\n",
       "      <td>5 0.914823591709137 137.24798583984375 1.04625...</td>\n",
       "      <td>test/0001.jpg</td>\n",
       "    </tr>\n",
       "    <tr>\n",
       "      <th>2</th>\n",
       "      <td>1 0.6799492239952087 291.4575500488281 300.297...</td>\n",
       "      <td>test/0002.jpg</td>\n",
       "    </tr>\n",
       "    <tr>\n",
       "      <th>3</th>\n",
       "      <td>9 0.5813835859298706 120.2798080444336 236.532...</td>\n",
       "      <td>test/0003.jpg</td>\n",
       "    </tr>\n",
       "    <tr>\n",
       "      <th>4</th>\n",
       "      <td>0 0.5973770022392273 450.7486267089844 406.322...</td>\n",
       "      <td>test/0004.jpg</td>\n",
       "    </tr>\n",
       "  </tbody>\n",
       "</table>\n",
       "</div>"
      ],
      "text/plain": [
       "                                    PredictionString       image_id\n",
       "0  7 0.9127387404441833 606.1720581054688 507.687...  test/0000.jpg\n",
       "1  5 0.914823591709137 137.24798583984375 1.04625...  test/0001.jpg\n",
       "2  1 0.6799492239952087 291.4575500488281 300.297...  test/0002.jpg\n",
       "3  9 0.5813835859298706 120.2798080444336 236.532...  test/0003.jpg\n",
       "4  0 0.5973770022392273 450.7486267089844 406.322...  test/0004.jpg"
      ]
     },
     "execution_count": 7,
     "metadata": {},
     "output_type": "execute_result"
    }
   ],
   "source": [
    "submission = pd.DataFrame()\n",
    "submission['PredictionString'] = prediction_strings\n",
    "submission['image_id'] = file_names\n",
    "submission.to_csv(ensemble_submission)\n",
    "\n",
    "submission.head()"
   ]
  },
  {
   "cell_type": "code",
   "execution_count": null,
   "metadata": {},
   "outputs": [],
   "source": []
  }
 ],
 "metadata": {
  "kernelspec": {
   "display_name": "detection",
   "language": "python",
   "name": "detection"
  }
 },
 "nbformat": 4,
 "nbformat_minor": 4
}
