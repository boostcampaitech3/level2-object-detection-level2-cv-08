{
 "cells": [
  {
   "cell_type": "code",
   "execution_count": null,
   "metadata": {},
   "outputs": [],
   "source": [
    "import seaborn as sns\n",
    "import pandas as pd\n",
    "import numpy as np\n",
    "import matplotlib.pyplot as plt\n",
    "\n",
    "# submission = pd.read_csv('sumbmission 파일 경로')\n",
    "# classes = (\"General trash\", \"Paper\", \"Paper pack\", \"Metal\", \"Glass\", \n",
    "#           \"Plastic\", \"Styrofoam\", \"Plastic bag\", \"Battery\", \"Clothing\")\n",
    "\n",
    "def countInstances(df):\n",
    "    num_images = len(df)\n",
    "    classes = np.zeros((10))\n",
    "    for predictions in df['PredictionString'].values:\n",
    "        prediction = np.asarray(predictions.split(' ')[:-1]).reshape(-1, 6)\n",
    "        for cls in prediction[:,0]:\n",
    "            classes[int(cls)]+=1\n",
    "    return classes\n",
    "\n",
    "num_per_class = countInstances(submission)\n",
    "# inference 후 생긴 submission 파일을 매개변수로 함수 호출\n",
    "\n",
    "\n",
    "nms = list(classes)\n",
    "fig, ax = plt.subplots(1, 1, figsize=(12, 8))\n",
    "df = pd.DataFrame(data = num_per_class, index=range(len(num_per_class)), columns=['count'])\n",
    "sns.barplot(data=df, x=nms, y=num_per_class, ax=ax)\n",
    "\n",
    "for x, y in enumerate(num_per_class):\n",
    "    ax.text(x, y+30, str(int(y)),ha='center')\n"
   ]
  }
 ],
 "metadata": {
  "language_info": {
   "name": "python"
  },
  "orig_nbformat": 4
 },
 "nbformat": 4,
 "nbformat_minor": 2
}
