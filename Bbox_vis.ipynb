{
 "cells": [
  {
   "cell_type": "code",
   "execution_count": null,
   "metadata": {},
   "outputs": [],
   "source": [
    "from PIL import Image\n",
    "from ipywidgets import interact\n",
    "import skimage.io as io\n",
    "import matplotlib.pyplot as plt\n",
    "from glob import glob\n",
    "import pandas as pd\n",
    "import matplotlib.patches as patches\n",
    "import seaborn as sns\n",
    "\n",
    "palette = sns.color_palette('bright')\n",
    "# 클래스 별로 다른 색 적용\n",
    "\n",
    "@interact(idx=(0, len(submission)-1))\n",
    "def showImg(idx):\n",
    "    fig, ax = plt.subplots(1, 1, dpi=150)\n",
    "    img = io.imread(os.path.join('/opt/ml/detection/dataset', submission.iloc[idx]['image_id']))\n",
    "    boxes = submission.iloc[idx]['PredictionString']\n",
    "    boxes = boxes.split(' ')[:-1]\n",
    "    ax.imshow(img)\n",
    "    for i in range(0, len(boxes), 6):\n",
    "        class_idx = int(boxes[i])\n",
    "        color = palette[class_idx]\n",
    "        conf = float(boxes[i+1])\n",
    "        x,y,x1,y1 = boxes[i+2:i+6]\n",
    "        x,y,x1,y1 = float(x), float(y), float(x1), float(y1)\n",
    "        ax.add_patch(\n",
    "            patches.Rectangle(\n",
    "                (x,y), x1-x, y1-y,\n",
    "                edgecolor=color,\n",
    "                linewidth=1,\n",
    "                fill=False,\n",
    "                ),\n",
    "            )\n",
    "        text_y = y-20 if y>20 else y+20 \n",
    "        ax.text(x+18,text_y, f'{classes[class_idx]}({conf:.2f})', color='white', fontsize='5', weight='semibold', backgroundcolor=color)\n",
    "        ax.set_xticks([])\n",
    "        ax.set_yticks([])"
   ]
  }
 ],
 "metadata": {
  "language_info": {
   "name": "python"
  },
  "orig_nbformat": 4
 },
 "nbformat": 4,
 "nbformat_minor": 2
}
