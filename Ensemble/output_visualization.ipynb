{
 "cells": [
  {
   "cell_type": "code",
   "execution_count": 17,
   "metadata": {},
   "outputs": [
    {
     "data": {
      "application/vnd.jupyter.widget-view+json": {
       "model_id": "21d007c502d84572a9e9d659e2a2dff5",
       "version_major": 2,
       "version_minor": 0
      },
      "text/plain": [
       "interactive(children=(IntSlider(value=2435, description='idx', max=4870), IntSlider(value=100, description='bb…"
      ]
     },
     "metadata": {},
     "output_type": "display_data"
    }
   ],
   "source": [
    "from PIL import Image\n",
    "from ipywidgets import interact\n",
    "import skimage.io as io\n",
    "import matplotlib.pyplot as plt\n",
    "from glob import glob\n",
    "import pandas as pd\n",
    "import matplotlib.patches as patches\n",
    "import seaborn as sns\n",
    "import pandas as pd\n",
    "\n",
    "path = \"/opt/ml/detection/baseline/mmdetection/level2-object-detection-level2-cv-08/Ensemble/\"\n",
    "\n",
    "submission_path = path + \"atss_dyhead+cascade_rcnn.csv\"\n",
    "\n",
    "submission = pd.read_csv(submission_path)\n",
    "\n",
    "palette = sns.color_palette('bright')\n",
    "# 클래스 별로 다른 색 적용\n",
    "classes = (\"General trash\", \"Paper\", \"Paper pack\", \"Metal\", \"Glass\", \n",
    "           \"Plastic\", \"Styrofoam\", \"Plastic bag\", \"Battery\", \"Clothing\")\n",
    "num_classes = (\"0 : General trash\", \"1 : Paper\", \"2 ; Paper pack\", \"3 : Metal\", \"4 : Glass\", \n",
    "           \"5 : Plastic\", \"6 : Styrofoam\", \"7 : Plastic bag\", \"8 : Battery\", \"9 : Clothing\")\n",
    "\n",
    "@interact(idx=(0, len(submission)-1), bboxes=(0,200))\n",
    "def showImg(idx, bboxes):\n",
    "    fig = plt.figure(figsize=(10, 10), dpi=150)\n",
    "    img = io.imread(os.path.join('/opt/ml/detection/dataset', submission.iloc[idx]['image_id']))\n",
    "    boxes = submission.iloc[idx]['PredictionString']\n",
    "    boxes = boxes.split(' ')[:-1]\n",
    "    print(num_classes)\n",
    "    print(boxes[:][0::6])\n",
    "    print(boxes[:][1::6])\n",
    "    print(\"number of bboxes : \",int(len(boxes)/6))\n",
    "    ax1 = fig.add_subplot(121)\n",
    "    ax2 = fig.add_subplot(122)\n",
    "    ax1.imshow(img)\n",
    "    ax2.imshow(img)\n",
    "    ax2.set_xticks([])\n",
    "    ax2.set_yticks([])\n",
    "    \n",
    "    i = bboxes * 6\n",
    "\n",
    "    if i < len(boxes):\n",
    "        class_idx = int(boxes[i])\n",
    "        color = palette[class_idx]\n",
    "        conf = float(boxes[i+1])\n",
    "        x,y,x1,y1 = boxes[i+2:i+6]\n",
    "        x,y,x1,y1 = float(x), float(y), float(x1), float(y1)\n",
    "        ax1.add_patch(\n",
    "            patches.Rectangle(\n",
    "                (x,y), x1-x, y1-y,\n",
    "                edgecolor=color,\n",
    "                linewidth=1,\n",
    "                fill=False,\n",
    "                ),\n",
    "            )\n",
    "        text_y = y-20 if y>20 else y+20 \n",
    "        ax1.text(x+18,text_y, f'{classes[class_idx]}({conf:.2f})', color='white', fontsize='4', weight='semibold', backgroundcolor=color)\n",
    "        ax1.set_xticks([])\n",
    "        ax1.set_yticks([])"
   ]
  },
  {
   "cell_type": "code",
   "execution_count": null,
   "metadata": {},
   "outputs": [],
   "source": []
  }
 ],
 "metadata": {
  "kernelspec": {
   "display_name": "detection",
   "language": "python",
   "name": "detection"
  },
  "language_info": {
   "codemirror_mode": {
    "name": "ipython",
    "version": 3
   },
   "file_extension": ".py",
   "mimetype": "text/x-python",
   "name": "python",
   "nbconvert_exporter": "python",
   "pygments_lexer": "ipython3",
   "version": "3.7.11"
  },
  "orig_nbformat": 4
 },
 "nbformat": 4,
 "nbformat_minor": 2
}
