{
 "cells": [
  {
   "cell_type": "code",
   "execution_count": 61,
   "metadata": {},
   "outputs": [],
   "source": [
    "%matplotlib inline\n",
    "from pycocotools.coco import COCO\n",
    "import numpy as np\n",
    "import skimage.io as io\n",
    "import matplotlib.pyplot as plt\n",
    "import os\n",
    "from glob import glob\n",
    "from ipywidgets import interact\n",
    "import matplotlib.patches as patches\n",
    "import seaborn as sns\n",
    "import ipywidgets as widgets"
   ]
  },
  {
   "cell_type": "code",
   "execution_count": 105,
   "metadata": {},
   "outputs": [
    {
     "name": "stdout",
     "output_type": "stream",
     "text": [
      "loading annotations into memory...\n",
      "Done (t=0.08s)\n",
      "creating index...\n",
      "index created!\n"
     ]
    }
   ],
   "source": [
    "annFile = '/opt/ml/detection/dataset/train.json'\n",
    "coco = COCO(annFile)\n",
    "cats = coco.loadCats(coco.getCatIds())\n",
    "nms = [cat['name'] for cat in cats]\n",
    "img_id = coco.getImgIds()\n",
    "img_info = coco.loadImgs(img_id)\n",
    "fnames = [info['file_name'] for info in img_info]\n"
   ]
  },
  {
   "cell_type": "markdown",
   "metadata": {},
   "source": []
  },
  {
   "cell_type": "code",
   "execution_count": 106,
   "metadata": {},
   "outputs": [
    {
     "data": {
      "application/vnd.jupyter.widget-view+json": {
       "model_id": "d971a31671174a7ab75276e62efbeb5b",
       "version_major": 2,
       "version_minor": 0
      },
      "text/plain": [
       "interactive(children=(IntSlider(value=2441, description='idx', max=4882), IntSlider(value=5, description='cls_…"
      ]
     },
     "metadata": {},
     "output_type": "display_data"
    }
   ],
   "source": [
    "button = widgets.Button(description='save image')\n",
    "text = widgets.Text()\n",
    "output = widgets.Output()\n",
    "palette = sns.color_palette('bright')\n",
    "img_save_dir = '/opt/ml/wrong_img'\n",
    "os.makedirs(img_save_dir, exist_ok=True)\n",
    "\n",
    "@interact(idx=(0, len(fnames)-1), cls_id=(0, 10), double_click=False)\n",
    "def showImg(idx, cls_id, double_click):\n",
    "    fig, ax = plt.subplots(1, 1, dpi=200)\n",
    "    img = io.imread(os.path.join('/opt/ml/detection/dataset', fnames[idx]))\n",
    "    annIds = coco.getAnnIds(imgIds=idx)\n",
    "    anns = coco.loadAnns(annIds)\n",
    "    \n",
    "    ax.imshow(img)\n",
    "    for ann in anns:\n",
    "        ann_id = ann['id']\n",
    "        class_idx = ann['category_id']\n",
    "        ax.set_title(str(ann['image_id'])+'.jpg', fontsize=5)\n",
    "        ax.set_xticks([])\n",
    "        ax.set_yticks([])\n",
    "        for pos in ['right', 'top', 'bottom', 'left']:\n",
    "            ax.spines[pos].set_visible(False)\n",
    "        if(class_idx == cls_id or cls_id==10):\n",
    "            x,y,w,h = ann['bbox']\n",
    "            color = palette[class_idx]\n",
    "            ax.add_patch(\n",
    "                patches.Rectangle(\n",
    "                    (x,y), w, h,\n",
    "                    edgecolor=color,\n",
    "                    fill=False,\n",
    "                    ),\n",
    "                )\n",
    "            text_y = y-15 if y>15 else y+15 \n",
    "            plt_text = ax.text(x+8,text_y, f'{nms[class_idx]}_{ann_id}', color='white', fontsize='3', weight='semibold', backgroundcolor=color)\n",
    "            plt_text.set_bbox(dict(\n",
    "                facecolor=palette[class_idx],  # background color\n",
    "                alpha=0.6,  # background alpha\n",
    "                edgecolor='none',  # border color\n",
    "                pad=2\n",
    "            ))\n",
    "    if double_click:\n",
    "        fig.savefig(os.path.join(img_save_dir, str(ann['image_id'])+'_'+text.value))\n",
    "        text.value = ''\n",
    "    display(text, output)"
   ]
  },
  {
   "cell_type": "code",
   "execution_count": null,
   "metadata": {},
   "outputs": [],
   "source": []
  }
 ],
 "metadata": {
  "interpreter": {
   "hash": "f5d7164c64e63af887b53f785b7c056834a1b06812e2ab286d66941e0de4c0dd"
  },
  "kernelspec": {
   "display_name": "detection",
   "language": "python",
   "name": "detection"
  },
  "language_info": {
   "codemirror_mode": {
    "name": "ipython",
    "version": 3
   },
   "file_extension": ".py",
   "mimetype": "text/x-python",
   "name": "python",
   "nbconvert_exporter": "python",
   "pygments_lexer": "ipython3",
   "version": "3.7.11"
  },
  "orig_nbformat": 4
 },
 "nbformat": 4,
 "nbformat_minor": 2
}
