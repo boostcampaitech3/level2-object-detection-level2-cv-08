{
 "cells": [
  {
   "cell_type": "code",
   "execution_count": 2,
   "metadata": {},
   "outputs": [],
   "source": [
    "%matplotlib inline\n",
    "from pycocotools.coco import COCO\n",
    "import numpy as np\n",
    "import skimage.io as io\n",
    "import matplotlib.pyplot as plt\n",
    "import os\n",
    "from glob import glob\n",
    "from ipywidgets import interact\n",
    "import matplotlib.patches as patches\n",
    "import pandas as pd\n",
    "import json\n",
    "import cv2\n",
    "from PIL import Image\n",
    "import seaborn as sns\n",
    "from tqdm import tqdm\n",
    "from time import time"
   ]
  },
  {
   "cell_type": "markdown",
   "metadata": {},
   "source": [
    "# json 파일 읽고 parsing"
   ]
  },
  {
   "cell_type": "code",
   "execution_count": 3,
   "metadata": {},
   "outputs": [],
   "source": [
    "IMG_PATH = \"/opt/ml/detection/dataset/\"\n",
    "DATA_IMG_PATH = \"/opt/ml/detection/dataset/train\"\n",
    "DATA_JSON_PATH = \"/opt/ml/detection/dataset/train_revision.json\"\n",
    "TEST_JSON_PATH = \"/opt/ml/detection/dataset/test.json\""
   ]
  },
  {
   "cell_type": "code",
   "execution_count": 4,
   "metadata": {},
   "outputs": [
    {
     "name": "stdout",
     "output_type": "stream",
     "text": [
      "info\n",
      "    |_ year\n",
      "    |_ version\n",
      "    |_ description\n",
      "    |_ contributor\n",
      "    |_ url\n",
      "    |_ date_created\n",
      "licenses\n",
      "    |_ id\n",
      "    |_ name\n",
      "    |_ url\n",
      "images\n",
      "    |_ width\n",
      "    |_ height\n",
      "    |_ file_name\n",
      "    |_ license\n",
      "    |_ flickr_url\n",
      "    |_ coco_url\n",
      "    |_ date_captured\n",
      "    |_ id\n",
      "categories\n",
      "    |_ id\n",
      "    |_ name\n",
      "    |_ supercategory\n",
      "annotations\n",
      "    |_ image_id\n",
      "    |_ category_id\n",
      "    |_ area\n",
      "    |_ bbox\n",
      "        |_ xmin\n",
      "        |_ ymin\n",
      "        |_ width\n",
      "        |_ height\n",
      "    |_ iscrowd\n",
      "    |_ id\n"
     ]
    }
   ],
   "source": [
    "with open(DATA_JSON_PATH, 'r') as f:\n",
    "    json_data = json.load(f)\n",
    "    train_img = json_data['images']\n",
    "    train_ann = json_data['annotations']\n",
    "    train_categories = json_data['categories']\n",
    "with open(TEST_JSON_PATH, 'r') as f:\n",
    "    json_data_test = json.load(f)\n",
    "    test_img = json_data_test['images']\n",
    "    test_ann = json_data_test['annotations']\n",
    "\n",
    "for main_key in list(json_data.keys()):\n",
    "    print(main_key)\n",
    "    if main_key == 'info':\n",
    "        for key in list(json_data[main_key].keys()):\n",
    "            print(f\"    |_ {key}\")\n",
    "    else:\n",
    "        for key in list(json_data[main_key][0].keys()):\n",
    "            print(f\"    |_ {key}\")\n",
    "            if(key == 'bbox'):\n",
    "                print(f\"        |_ xmin\")\n",
    "                print(f\"        |_ ymin\")\n",
    "                print(f\"        |_ width\")\n",
    "                print(f\"        |_ height\")\n"
   ]
  },
  {
   "cell_type": "markdown",
   "metadata": {},
   "source": [
    "# class별 instance수 확인하기"
   ]
  },
  {
   "cell_type": "code",
   "execution_count": 5,
   "metadata": {},
   "outputs": [
    {
     "name": "stdout",
     "output_type": "stream",
     "text": [
      "[1839. 1502.  562.  523.  298. 1197.  447. 1655.   41.  200.]\n",
      "General trash Paper Paper pack Metal Glass Plastic Styrofoam Plastic bag Battery Clothing\n"
     ]
    }
   ],
   "source": [
    "with open('/opt/ml/detection/dataset/SK_train_annotations.json', 'r') as file:\n",
    "    train_json = json.load(file)\n",
    "    train_img = train_json['images']\n",
    "    train_ann = train_json['annotations']\n",
    "\n",
    "class_per_img = np.zeros(10)\n",
    "for img in train_img:\n",
    "    img_id = img['id']\n",
    "    class_ = set()\n",
    "    for ann in train_ann:\n",
    "        if ann['image_id']==img_id:\n",
    "            class_.add(ann['category_id'])\n",
    "    for c in class_:\n",
    "        class_per_img[c]+=1\n",
    "print(class_per_img)\n",
    "print(\"General trash\", \"Paper\", \"Paper pack\", \"Metal\", \"Glass\", \"Plastic\", \"Styrofoam\", \"Plastic bag\", \"Battery\", \"Clothing\")"
   ]
  },
  {
   "cell_type": "code",
   "execution_count": 6,
   "metadata": {},
   "outputs": [
    {
     "name": "stdout",
     "output_type": "stream",
     "text": [
      "20506.0\n"
     ]
    },
    {
     "data": {
      "image/png": "[encoded data removed]",
      "text/plain": [
       "<Figure size 864x576 with 1 Axes>"
      ]
     },
     "metadata": {
      "needs_background": "light"
     },
     "output_type": "display_data"
    }
   ],
   "source": [
    "def countInstances(ann_data, num_cls=10):\n",
    "    num_per_class = np.zeros(num_cls)\n",
    "    for ann in ann_data:\n",
    "        cls = ann['category_id']\n",
    "        num_per_class[cls]+=1\n",
    "\n",
    "    return num_per_class\n",
    "\n",
    "num_per_class = countInstances(train_ann)\n",
    "total_num = sum(num_per_class)\n",
    "print(total_num)\n",
    "categories = [category['name'] for category in train_categories]\n",
    "\n",
    "fig, ax = plt.subplots(1, 1, figsize=(12, 8))\n",
    "df = pd.DataFrame(data = num_per_class, index=range(len(num_per_class)), columns=['count'])\n",
    "sns.barplot(data=df, x=categories, y=num_per_class, ax=ax)\n",
    "\n",
    "for x, y in enumerate(num_per_class):\n",
    "    ax.text(x, y+30, str(int(y)),ha='center')"
   ]
  },
  {
   "cell_type": "markdown",
   "metadata": {},
   "source": [
    "# image, Bbox 확인하기"
   ]
  },
  {
   "cell_type": "code",
   "execution_count": 7,
   "metadata": {},
   "outputs": [
    {
     "data": {
      "application/vnd.jupyter.widget-view+json": {
       "model_id": "7d4be30a52b245acafa106cf18b8fb5b",
       "version_major": 2,
       "version_minor": 0
      },
      "text/plain": [
       "interactive(children=(IntSlider(value=4259, description='idx', max=4259), Output()), _dom_classes=('widget-int…"
      ]
     },
     "metadata": {},
     "output_type": "display_data"
    }
   ],
   "source": [
    "palette = sns.color_palette('bright')\n",
    "\n",
    "@interact(idx=(0, len(train_img)-1))\n",
    "def showImg(idx=5162):\n",
    "    fig, ax = plt.subplots(1, 2, dpi=200)\n",
    "    ax = ax.flatten()\n",
    "    img = io.imread(os.path.join('/opt/ml/detection/dataset', train_img[idx]['file_name']))\n",
    "    \n",
    "    ax[0].imshow(img)\n",
    "    ax[1].imshow(img)\n",
    "    ax[0].set_xticks([])\n",
    "    ax[0].set_yticks([])\n",
    "    ax[1].set_xticks([])\n",
    "    ax[1].set_yticks([])\n",
    "    for ann in train_ann:\n",
    "        if ann['image_id']==train_img[idx]['id']:\n",
    "            ann_id = ann['image_id']\n",
    "            class_idx = ann['category_id']\n",
    "            ax[1].set_title(str(ann_id)+'.jpg', fontsize=5)\n",
    "            for pos in ['right', 'top', 'bottom', 'left']:\n",
    "                ax[1].spines[pos].set_visible(False)\n",
    "        \n",
    "            x,y,w,h = ann['bbox']\n",
    "            color = palette[class_idx]\n",
    "            print(ann['bbox'])\n",
    "            ax[1].add_patch(\n",
    "                patches.Rectangle(\n",
    "                    (x,y), w, h,\n",
    "                    edgecolor=color,\n",
    "                    fill=False,\n",
    "                    ),\n",
    "                )\n",
    "            text_y = y-15 if y>15 else y+15 \n",
    "            plt_text = ax[1].text(x+8,text_y, f'{categories[class_idx]}_{ann_id}', color='white', fontsize='3', weight='semibold', backgroundcolor=color)\n",
    "            plt_text.set_bbox(dict(\n",
    "                facecolor=palette[class_idx],  # background color\n",
    "                alpha=0.6,  # background alpha\n",
    "                edgecolor='none',  # border color\n",
    "                pad=2\n",
    "            ))\n"
   ]
  },
  {
   "cell_type": "markdown",
   "metadata": {},
   "source": [
    "# Category 별 이미지 sampling"
   ]
  },
  {
   "cell_type": "code",
   "execution_count": 28,
   "metadata": {},
   "outputs": [
    {
     "data": {
      "application/vnd.jupyter.widget-view+json": {
       "model_id": "4ae22ff90d42408ab6d4eb004ec5d5cf",
       "version_major": 2,
       "version_minor": 0
      },
      "text/plain": [
       "interactive(children=(IntSlider(value=4, description='category_id', max=9), Output()), _dom_classes=('widget-i…"
      ]
     },
     "metadata": {},
     "output_type": "display_data"
    }
   ],
   "source": [
    "@interact(category_id=(0, 9))\n",
    "def showing_trash(category_id):    \n",
    "    fig, axes = plt.subplots(3, 3, figsize = (10, 10))\n",
    "    axes = axes.flatten()\n",
    "    train_ids = []\n",
    "    bboxes = []\n",
    "    for i in range(len(train_ann)):\n",
    "        if train_ann[i]['category_id'] == category_id:\n",
    "            train_ids.append(train_ann[i]['image_id'])\n",
    "            bboxes.append(train_ann[i]['bbox'])\n",
    "    train_ids = np.asarray(train_ids)\n",
    "    bboxes=np.asarray(bboxes)\n",
    "    index = np.random.choice(len(train_ids), 9)\n",
    "    target_ids = train_ids[index]\n",
    "    target_bboxes = bboxes[index]\n",
    "\n",
    "    for i, (target, bbox) in enumerate(zip(target_ids, target_bboxes)):\n",
    "        fname = str(int(target))\n",
    "        fname = fname.zfill(4)\n",
    "        fname += \".jpg\"\n",
    "\n",
    "        img = Image.open(os.path.join(DATA_IMG_PATH, fname))\n",
    "        img = img.crop((bbox[0], bbox[1], bbox[0]+bbox[2], bbox[1]+bbox[3]))\n",
    "        \n",
    "        axes[i].imshow(img) \n",
    "        axes[i].set_xticks([])\n",
    "        axes[i].set_yticks([])\n",
    "        axes[i].set_title(fname)\n",
    "    fig.suptitle(categories[category_id], fontweight = 'bold')\n",
    "    plt.show()\n",
    "        "
   ]
  },
  {
   "cell_type": "markdown",
   "metadata": {},
   "source": [
    "# 넓이 분포 확인하기"
   ]
  },
  {
   "cell_type": "code",
   "execution_count": 19,
   "metadata": {},
   "outputs": [
    {
     "data": {
      "text/html": [
       "<div>\n",
       "<style scoped>\n",
       "    .dataframe tbody tr th:only-of-type {\n",
       "        vertical-align: middle;\n",
       "    }\n",
       "\n",
       "    .dataframe tbody tr th {\n",
       "        vertical-align: top;\n",
       "    }\n",
       "\n",
       "    .dataframe thead th {\n",
       "        text-align: right;\n",
       "    }\n",
       "</style>\n",
       "<table border=\"1\" class=\"dataframe\">\n",
       "  <thead>\n",
       "    <tr style=\"text-align: right;\">\n",
       "      <th></th>\n",
       "      <th>Area</th>\n",
       "      <th>Category</th>\n",
       "    </tr>\n",
       "  </thead>\n",
       "  <tbody>\n",
       "    <tr>\n",
       "      <th>4445</th>\n",
       "      <td>105.08</td>\n",
       "      <td>5</td>\n",
       "    </tr>\n",
       "    <tr>\n",
       "      <th>4537</th>\n",
       "      <td>0.56</td>\n",
       "      <td>0</td>\n",
       "    </tr>\n",
       "    <tr>\n",
       "      <th>5775</th>\n",
       "      <td>3.12</td>\n",
       "      <td>1</td>\n",
       "    </tr>\n",
       "    <tr>\n",
       "      <th>15626</th>\n",
       "      <td>66.25</td>\n",
       "      <td>2</td>\n",
       "    </tr>\n",
       "  </tbody>\n",
       "</table>\n",
       "</div>"
      ],
      "text/plain": [
       "         Area  Category\n",
       "4445   105.08         5\n",
       "4537     0.56         0\n",
       "5775     3.12         1\n",
       "15626   66.25         2"
      ]
     },
     "execution_count": 19,
     "metadata": {},
     "output_type": "execute_result"
    }
   ],
   "source": [
    "# 각 bounding box의 area list\n",
    "area_list = []\n",
    "for i in range(len(train_ann)):\n",
    "    area_list.append([train_ann[i]['area'], train_ann[i]['category_id']])\n",
    "\n",
    "area_df = pd.DataFrame(area_list, columns=['Area', 'Category'])\n",
    "area_df[area_df['Area']<200]"
   ]
  },
  {
   "cell_type": "code",
   "execution_count": 20,
   "metadata": {},
   "outputs": [
    {
     "data": {
      "image/png": "[encoded data removed]",
      "text/plain": [
       "<Figure size 432x288 with 1 Axes>"
      ]
     },
     "metadata": {
      "needs_background": "light"
     },
     "output_type": "display_data"
    }
   ],
   "source": [
    "a_list = [area_list[i][0] for i in range(len(area_list))]\n",
    "sns.histplot(area_df, x='Area', kde=True, log_scale=True)\n",
    "plt.title(\"BBOX Dist Plot\")\n",
    "#plt.xscale('log')\n",
    "plt.show()"
   ]
  },
  {
   "cell_type": "code",
   "execution_count": 1,
   "metadata": {},
   "outputs": [
    {
     "ename": "NameError",
     "evalue": "name 'interact' is not defined",
     "output_type": "error",
     "traceback": [
      "\u001b[0;31m---------------------------------------------------------------------------\u001b[0m",
      "\u001b[0;31mNameError\u001b[0m                                 Traceback (most recent call last)",
      "\u001b[0;32m/tmp/ipykernel_13156/868394680.py\u001b[0m in \u001b[0;36m<module>\u001b[0;34m\u001b[0m\n\u001b[1;32m      1\u001b[0m \u001b[0mclasses\u001b[0m \u001b[0;34m=\u001b[0m \u001b[0;34m(\u001b[0m\u001b[0;34m\"General trash\"\u001b[0m\u001b[0;34m,\u001b[0m \u001b[0;34m\"Paper\"\u001b[0m\u001b[0;34m,\u001b[0m \u001b[0;34m\"Paper pack\"\u001b[0m\u001b[0;34m,\u001b[0m \u001b[0;34m\"Metal\"\u001b[0m\u001b[0;34m,\u001b[0m \u001b[0;34m\"Glass\"\u001b[0m\u001b[0;34m,\u001b[0m \u001b[0;34m\"Plastic\"\u001b[0m\u001b[0;34m,\u001b[0m \u001b[0;34m\"Styrofoam\"\u001b[0m\u001b[0;34m,\u001b[0m \u001b[0;34m\"Plastic bag\"\u001b[0m\u001b[0;34m,\u001b[0m \u001b[0;34m\"Battery\"\u001b[0m\u001b[0;34m,\u001b[0m \u001b[0;34m\"Clothing\"\u001b[0m\u001b[0;34m)\u001b[0m\u001b[0;34m\u001b[0m\u001b[0;34m\u001b[0m\u001b[0m\n\u001b[0;32m----> 2\u001b[0;31m \u001b[0;34m@\u001b[0m\u001b[0minteract\u001b[0m\u001b[0;34m(\u001b[0m\u001b[0mcategory_id\u001b[0m \u001b[0;34m=\u001b[0m \u001b[0;34m(\u001b[0m\u001b[0;36m0\u001b[0m\u001b[0;34m,\u001b[0m \u001b[0;36m10\u001b[0m\u001b[0;34m)\u001b[0m\u001b[0;34m,\u001b[0m \u001b[0marea\u001b[0m\u001b[0;34m=\u001b[0m\u001b[0;34m(\u001b[0m\u001b[0;36m0\u001b[0m\u001b[0;34m,\u001b[0m \u001b[0;36m3\u001b[0m\u001b[0;34m,\u001b[0m \u001b[0;36m1\u001b[0m\u001b[0;34m)\u001b[0m\u001b[0;34m)\u001b[0m\u001b[0;34m\u001b[0m\u001b[0;34m\u001b[0m\u001b[0m\n\u001b[0m\u001b[1;32m      3\u001b[0m \u001b[0;32mdef\u001b[0m \u001b[0mshowing_area_distribution\u001b[0m\u001b[0;34m(\u001b[0m\u001b[0mcategory_id\u001b[0m\u001b[0;34m=\u001b[0m\u001b[0;36m10\u001b[0m\u001b[0;34m,\u001b[0m \u001b[0marea\u001b[0m\u001b[0;34m=\u001b[0m\u001b[0;36m3\u001b[0m\u001b[0;34m)\u001b[0m\u001b[0;34m:\u001b[0m\u001b[0;34m\u001b[0m\u001b[0;34m\u001b[0m\u001b[0m\n\u001b[1;32m      4\u001b[0m     \u001b[0mfig\u001b[0m\u001b[0;34m,\u001b[0m \u001b[0max\u001b[0m \u001b[0;34m=\u001b[0m \u001b[0mplt\u001b[0m\u001b[0;34m.\u001b[0m\u001b[0msubplots\u001b[0m\u001b[0;34m(\u001b[0m\u001b[0;36m1\u001b[0m\u001b[0;34m,\u001b[0m \u001b[0;36m1\u001b[0m\u001b[0;34m,\u001b[0m \u001b[0mfigsize\u001b[0m \u001b[0;34m=\u001b[0m \u001b[0;34m(\u001b[0m\u001b[0;36m12\u001b[0m\u001b[0;34m,\u001b[0m \u001b[0;36m7\u001b[0m\u001b[0;34m)\u001b[0m\u001b[0;34m)\u001b[0m\u001b[0;34m\u001b[0m\u001b[0;34m\u001b[0m\u001b[0m\n\u001b[1;32m      5\u001b[0m \u001b[0;34m\u001b[0m\u001b[0m\n",
      "\u001b[0;31mNameError\u001b[0m: name 'interact' is not defined"
     ]
    }
   ],
   "source": [
    "classes = (\"General trash\", \"Paper\", \"Paper pack\", \"Metal\", \"Glass\", \"Plastic\", \"Styrofoam\", \"Plastic bag\", \"Battery\", \"Clothing\")\n",
    "@interact(category_id = (0, 10), area=(0, 3, 1))\n",
    "def showing_area_distribution(category_id=10, area=3):\n",
    "    fig, ax = plt.subplots(1, 1, figsize = (12, 7))\n",
    "\n",
    "    if area==0:\n",
    "            area_df_cut = area_df[area_df['Area']<32**2]\n",
    "    elif area==1:\n",
    "        area_df_cut = area_df[(area_df['Area']>=32**2)&(area_df['Area']<96**2)]\n",
    "    elif area==2:\n",
    "        area_df_cut = area_df[area_df['Area']>=96**2]\n",
    "    else:\n",
    "        area_df_cut = area_df\n",
    "\n",
    "    try:\n",
    "        area_df_cut['Category'] = area_df_cut['Category'].apply(lambda x:classes[x])\n",
    "    except:\n",
    "        pass\n",
    "\n",
    "    if category_id == 10:\n",
    "        sns.kdeplot(area_df_cut['Area'], hue = area_df_cut['Category'], log_scale=True, ax = ax, palette='tab10')\n",
    "        plt.title(f\"BBOX Dist Plot\")\n",
    "    else:\n",
    "        target_df = area_df_cut[area_df_cut['Category'] == classes[category_id]]\n",
    "        sns.histplot(target_df['Area'], kde=True, log_scale=True, ax=ax)\n",
    "        plt.title(f\"BBOX Dist Plot <{categories[category_id]}>\")"
   ]
  },
  {
   "cell_type": "markdown",
   "metadata": {},
   "source": [
    "# 이미지당 객체 개수 확인하기 "
   ]
  },
  {
   "cell_type": "code",
   "execution_count": 29,
   "metadata": {},
   "outputs": [
    {
     "data": {
      "text/plain": [
       "<AxesSubplot:xlabel='count', ylabel='Count'>"
      ]
     },
     "execution_count": 29,
     "metadata": {},
     "output_type": "execute_result"
    },
    {
     "data": {
      "image/png": "[encoded data removed]",
      "text/plain": [
       "<Figure size 864x864 with 1 Axes>"
      ]
     },
     "metadata": {
      "needs_background": "light"
     },
     "output_type": "display_data"
    }
   ],
   "source": [
    "train_ann_df = pd.DataFrame.from_dict(train_ann)\n",
    "instance_count = train_ann_df['image_id'].value_counts().sort_values()\n",
    "count_df = pd.DataFrame(list(instance_count.to_dict().items()), columns=['img_id', 'count'])\n",
    "\n",
    "fig, ax = plt.subplots(1,1, figsize=(12, 12))\n",
    "sns.histplot(count_df, x='count', kde=True, ax=ax) "
   ]
  },
  {
   "cell_type": "code",
   "execution_count": 30,
   "metadata": {},
   "outputs": [
    {
     "data": {
      "text/html": [
       "<div>\n",
       "<style scoped>\n",
       "    .dataframe tbody tr th:only-of-type {\n",
       "        vertical-align: middle;\n",
       "    }\n",
       "\n",
       "    .dataframe tbody tr th {\n",
       "        vertical-align: top;\n",
       "    }\n",
       "\n",
       "    .dataframe thead th {\n",
       "        text-align: right;\n",
       "    }\n",
       "</style>\n",
       "<table border=\"1\" class=\"dataframe\">\n",
       "  <thead>\n",
       "    <tr style=\"text-align: right;\">\n",
       "      <th></th>\n",
       "      <th>img_id</th>\n",
       "      <th>count</th>\n",
       "    </tr>\n",
       "  </thead>\n",
       "  <tbody>\n",
       "    <tr>\n",
       "      <th>4831</th>\n",
       "      <td>1997</td>\n",
       "      <td>31</td>\n",
       "    </tr>\n",
       "    <tr>\n",
       "      <th>4832</th>\n",
       "      <td>2182</td>\n",
       "      <td>31</td>\n",
       "    </tr>\n",
       "    <tr>\n",
       "      <th>4833</th>\n",
       "      <td>3430</td>\n",
       "      <td>31</td>\n",
       "    </tr>\n",
       "    <tr>\n",
       "      <th>4834</th>\n",
       "      <td>767</td>\n",
       "      <td>31</td>\n",
       "    </tr>\n",
       "    <tr>\n",
       "      <th>4835</th>\n",
       "      <td>2678</td>\n",
       "      <td>31</td>\n",
       "    </tr>\n",
       "    <tr>\n",
       "      <th>4836</th>\n",
       "      <td>3796</td>\n",
       "      <td>31</td>\n",
       "    </tr>\n",
       "    <tr>\n",
       "      <th>4837</th>\n",
       "      <td>168</td>\n",
       "      <td>31</td>\n",
       "    </tr>\n",
       "    <tr>\n",
       "      <th>4838</th>\n",
       "      <td>840</td>\n",
       "      <td>31</td>\n",
       "    </tr>\n",
       "    <tr>\n",
       "      <th>4839</th>\n",
       "      <td>2572</td>\n",
       "      <td>31</td>\n",
       "    </tr>\n",
       "    <tr>\n",
       "      <th>4840</th>\n",
       "      <td>1669</td>\n",
       "      <td>31</td>\n",
       "    </tr>\n",
       "    <tr>\n",
       "      <th>4841</th>\n",
       "      <td>833</td>\n",
       "      <td>32</td>\n",
       "    </tr>\n",
       "    <tr>\n",
       "      <th>4842</th>\n",
       "      <td>4261</td>\n",
       "      <td>32</td>\n",
       "    </tr>\n",
       "    <tr>\n",
       "      <th>4843</th>\n",
       "      <td>2956</td>\n",
       "      <td>32</td>\n",
       "    </tr>\n",
       "    <tr>\n",
       "      <th>4844</th>\n",
       "      <td>655</td>\n",
       "      <td>32</td>\n",
       "    </tr>\n",
       "    <tr>\n",
       "      <th>4845</th>\n",
       "      <td>1918</td>\n",
       "      <td>32</td>\n",
       "    </tr>\n",
       "    <tr>\n",
       "      <th>4846</th>\n",
       "      <td>2189</td>\n",
       "      <td>32</td>\n",
       "    </tr>\n",
       "    <tr>\n",
       "      <th>4847</th>\n",
       "      <td>2387</td>\n",
       "      <td>32</td>\n",
       "    </tr>\n",
       "    <tr>\n",
       "      <th>4848</th>\n",
       "      <td>3148</td>\n",
       "      <td>32</td>\n",
       "    </tr>\n",
       "    <tr>\n",
       "      <th>4849</th>\n",
       "      <td>352</td>\n",
       "      <td>33</td>\n",
       "    </tr>\n",
       "    <tr>\n",
       "      <th>4850</th>\n",
       "      <td>3601</td>\n",
       "      <td>33</td>\n",
       "    </tr>\n",
       "    <tr>\n",
       "      <th>4851</th>\n",
       "      <td>956</td>\n",
       "      <td>33</td>\n",
       "    </tr>\n",
       "    <tr>\n",
       "      <th>4852</th>\n",
       "      <td>272</td>\n",
       "      <td>34</td>\n",
       "    </tr>\n",
       "    <tr>\n",
       "      <th>4853</th>\n",
       "      <td>3049</td>\n",
       "      <td>34</td>\n",
       "    </tr>\n",
       "    <tr>\n",
       "      <th>4854</th>\n",
       "      <td>3450</td>\n",
       "      <td>34</td>\n",
       "    </tr>\n",
       "    <tr>\n",
       "      <th>4855</th>\n",
       "      <td>2794</td>\n",
       "      <td>34</td>\n",
       "    </tr>\n",
       "    <tr>\n",
       "      <th>4856</th>\n",
       "      <td>694</td>\n",
       "      <td>34</td>\n",
       "    </tr>\n",
       "    <tr>\n",
       "      <th>4857</th>\n",
       "      <td>3046</td>\n",
       "      <td>34</td>\n",
       "    </tr>\n",
       "    <tr>\n",
       "      <th>4858</th>\n",
       "      <td>3403</td>\n",
       "      <td>35</td>\n",
       "    </tr>\n",
       "    <tr>\n",
       "      <th>4859</th>\n",
       "      <td>1177</td>\n",
       "      <td>35</td>\n",
       "    </tr>\n",
       "    <tr>\n",
       "      <th>4860</th>\n",
       "      <td>1872</td>\n",
       "      <td>35</td>\n",
       "    </tr>\n",
       "    <tr>\n",
       "      <th>4861</th>\n",
       "      <td>4225</td>\n",
       "      <td>37</td>\n",
       "    </tr>\n",
       "    <tr>\n",
       "      <th>4862</th>\n",
       "      <td>624</td>\n",
       "      <td>37</td>\n",
       "    </tr>\n",
       "    <tr>\n",
       "      <th>4863</th>\n",
       "      <td>3026</td>\n",
       "      <td>37</td>\n",
       "    </tr>\n",
       "    <tr>\n",
       "      <th>4864</th>\n",
       "      <td>1058</td>\n",
       "      <td>38</td>\n",
       "    </tr>\n",
       "    <tr>\n",
       "      <th>4865</th>\n",
       "      <td>4119</td>\n",
       "      <td>38</td>\n",
       "    </tr>\n",
       "    <tr>\n",
       "      <th>4866</th>\n",
       "      <td>384</td>\n",
       "      <td>38</td>\n",
       "    </tr>\n",
       "    <tr>\n",
       "      <th>4867</th>\n",
       "      <td>1671</td>\n",
       "      <td>39</td>\n",
       "    </tr>\n",
       "    <tr>\n",
       "      <th>4868</th>\n",
       "      <td>1020</td>\n",
       "      <td>39</td>\n",
       "    </tr>\n",
       "    <tr>\n",
       "      <th>4869</th>\n",
       "      <td>4778</td>\n",
       "      <td>40</td>\n",
       "    </tr>\n",
       "    <tr>\n",
       "      <th>4870</th>\n",
       "      <td>2521</td>\n",
       "      <td>40</td>\n",
       "    </tr>\n",
       "    <tr>\n",
       "      <th>4871</th>\n",
       "      <td>3825</td>\n",
       "      <td>40</td>\n",
       "    </tr>\n",
       "    <tr>\n",
       "      <th>4872</th>\n",
       "      <td>4841</td>\n",
       "      <td>41</td>\n",
       "    </tr>\n",
       "    <tr>\n",
       "      <th>4873</th>\n",
       "      <td>4492</td>\n",
       "      <td>42</td>\n",
       "    </tr>\n",
       "    <tr>\n",
       "      <th>4874</th>\n",
       "      <td>1797</td>\n",
       "      <td>42</td>\n",
       "    </tr>\n",
       "    <tr>\n",
       "      <th>4875</th>\n",
       "      <td>1678</td>\n",
       "      <td>44</td>\n",
       "    </tr>\n",
       "    <tr>\n",
       "      <th>4876</th>\n",
       "      <td>2416</td>\n",
       "      <td>46</td>\n",
       "    </tr>\n",
       "    <tr>\n",
       "      <th>4877</th>\n",
       "      <td>2981</td>\n",
       "      <td>46</td>\n",
       "    </tr>\n",
       "    <tr>\n",
       "      <th>4878</th>\n",
       "      <td>1955</td>\n",
       "      <td>46</td>\n",
       "    </tr>\n",
       "    <tr>\n",
       "      <th>4879</th>\n",
       "      <td>394</td>\n",
       "      <td>48</td>\n",
       "    </tr>\n",
       "    <tr>\n",
       "      <th>4880</th>\n",
       "      <td>4047</td>\n",
       "      <td>52</td>\n",
       "    </tr>\n",
       "    <tr>\n",
       "      <th>4881</th>\n",
       "      <td>946</td>\n",
       "      <td>55</td>\n",
       "    </tr>\n",
       "    <tr>\n",
       "      <th>4882</th>\n",
       "      <td>4197</td>\n",
       "      <td>71</td>\n",
       "    </tr>\n",
       "  </tbody>\n",
       "</table>\n",
       "</div>"
      ],
      "text/plain": [
       "      img_id  count\n",
       "4831    1997     31\n",
       "4832    2182     31\n",
       "4833    3430     31\n",
       "4834     767     31\n",
       "4835    2678     31\n",
       "4836    3796     31\n",
       "4837     168     31\n",
       "4838     840     31\n",
       "4839    2572     31\n",
       "4840    1669     31\n",
       "4841     833     32\n",
       "4842    4261     32\n",
       "4843    2956     32\n",
       "4844     655     32\n",
       "4845    1918     32\n",
       "4846    2189     32\n",
       "4847    2387     32\n",
       "4848    3148     32\n",
       "4849     352     33\n",
       "4850    3601     33\n",
       "4851     956     33\n",
       "4852     272     34\n",
       "4853    3049     34\n",
       "4854    3450     34\n",
       "4855    2794     34\n",
       "4856     694     34\n",
       "4857    3046     34\n",
       "4858    3403     35\n",
       "4859    1177     35\n",
       "4860    1872     35\n",
       "4861    4225     37\n",
       "4862     624     37\n",
       "4863    3026     37\n",
       "4864    1058     38\n",
       "4865    4119     38\n",
       "4866     384     38\n",
       "4867    1671     39\n",
       "4868    1020     39\n",
       "4869    4778     40\n",
       "4870    2521     40\n",
       "4871    3825     40\n",
       "4872    4841     41\n",
       "4873    4492     42\n",
       "4874    1797     42\n",
       "4875    1678     44\n",
       "4876    2416     46\n",
       "4877    2981     46\n",
       "4878    1955     46\n",
       "4879     394     48\n",
       "4880    4047     52\n",
       "4881     946     55\n",
       "4882    4197     71"
      ]
     },
     "execution_count": 30,
     "metadata": {},
     "output_type": "execute_result"
    }
   ],
   "source": [
    "count_df[count_df['count']>30]"
   ]
  },
  {
   "cell_type": "code",
   "execution_count": null,
   "metadata": {},
   "outputs": [],
   "source": []
  }
 ],
 "metadata": {
  "interpreter": {
   "hash": "f5d7164c64e63af887b53f785b7c056834a1b06812e2ab286d66941e0de4c0dd"
  },
  "kernelspec": {
   "display_name": "Python 3.7.11 ('mmdet')",
   "language": "python",
   "name": "python3"
  },
  "language_info": {
   "codemirror_mode": {
    "name": "ipython",
    "version": 3
   },
   "file_extension": ".py",
   "mimetype": "text/x-python",
   "name": "python",
   "nbconvert_exporter": "python",
   "pygments_lexer": "ipython3",
   "version": "3.7.11"
  },
  "orig_nbformat": 4
 },
 "nbformat": 4,
 "nbformat_minor": 2
}
