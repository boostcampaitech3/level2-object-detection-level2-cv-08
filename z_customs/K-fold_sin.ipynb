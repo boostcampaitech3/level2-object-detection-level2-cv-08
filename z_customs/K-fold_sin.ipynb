{
 "cells": [
  {
   "cell_type": "code",
   "execution_count": 1,
   "metadata": {},
   "outputs": [
    {
     "name": "stderr",
     "output_type": "stream",
     "text": [
      "usage: ipykernel_launcher.py [-h] [--path PATH] [--n_split N_SPLIT]\n",
      "ipykernel_launcher.py: error: unrecognized arguments: --ip=127.0.0.1 --stdin=9028 --control=9026 --hb=9025 --Session.signature_scheme=\"hmac-sha256\" --Session.key=b\"c3b688c6-1c61-4ec9-b780-2b5457880e9e\" --shell=9027 --transport=\"tcp\" --iopub=9029 --f=/tmp/tmp-14467yb7aDp7iJibr.json\n"
     ]
    },
    {
     "ename": "SystemExit",
     "evalue": "2",
     "output_type": "error",
     "traceback": [
      "An exception has occurred, use %tb to see the full traceback.\n",
      "\u001b[0;31mSystemExit\u001b[0m\u001b[0;31m:\u001b[0m 2\n"
     ]
    },
    {
     "name": "stderr",
     "output_type": "stream",
     "text": [
      "/opt/conda/envs/mmdet/lib/python3.7/site-packages/IPython/core/interactiveshell.py:3532: UserWarning: To exit: use 'exit', 'quit', or Ctrl-D.\n",
      "  warn(\"To exit: use 'exit', 'quit', or Ctrl-D.\", stacklevel=1)\n"
     ]
    }
   ],
   "source": [
    "import os\n",
    "import json\n",
    "import numpy as np\n",
    "import pandas as pd\n",
    "import argparse\n",
    "\n",
    "from tqdm import tqdm\n",
    "\n",
    "from iterstrat.ml_stratifiers import MultilabelStratifiedKFold\n",
    "\n",
    "data_path = '/opt/ml/detection/dataset'\n",
    "images_path = os.path.join(data_path, 'train')\n",
    "annotations_path = os.path.join(data_path, 'train.json')\n",
    "\n",
    "\n",
    "def main(args):\n",
    "    with open(annotations_path, 'r') as f:\n",
    "        train_json = json.loads(f.read())\n",
    "        images = train_json['images']\n",
    "        categories = train_json['categories']\n",
    "        annotations = train_json['annotations']\n",
    "\n",
    "    annotations_df = pd.DataFrame.from_dict(annotations)\n",
    "    x = images\n",
    "    y = [[0] * len(categories) for _ in range(len(images))]\n",
    "    for anno in annotations:\n",
    "        y[anno['image_id']][anno['category_id']] += 1\n",
    "\n",
    "    mskf = MultilabelStratifiedKFold(n_splits=args.n_split, shuffle=True)\n",
    "\n",
    "    path = args.path\n",
    "\n",
    "    if not os.path.exists(path):\n",
    "        os.mkdir(path)\n",
    "\n",
    "    for idx, (train_index, val_index) in tqdm(enumerate(mskf.split(x, y)), total=args.n_split):\n",
    "        train_dict = dict()\n",
    "        val_dict = dict()\n",
    "        for i in ['info', 'licenses', 'categories']:\n",
    "            train_dict[i] = train_json[i]\n",
    "            val_dict[i] = train_json[i]\n",
    "        train_dict['images'] = np.array(images)[train_index].tolist()\n",
    "        val_dict['images'] = np.array(images)[val_index].tolist()\n",
    "        train_dict['annotations'] = annotations_df[annotations_df['image_id'].isin(train_index)].to_dict('records')\n",
    "        val_dict['annotations'] = annotations_df[annotations_df['image_id'].isin(val_index)].to_dict('records')\n",
    "\n",
    "        train_dir = os.path.join(path, f'cv_train_{idx + 1}.json')\n",
    "        val_dir = os.path.join(path, f'cv_val_{idx + 1}.json')\n",
    "        with open(train_dir, 'w') as train_file:\n",
    "            json.dump(train_dict, train_file)\n",
    "\n",
    "        with open(val_dir, 'w') as val_file:\n",
    "            json.dump(val_dict, val_file)\n",
    "\n",
    "    print(\"Done Make files\")\n",
    "\n",
    "\n",
    "if __name__ == \"__main__\":\n",
    "    parser = argparse.ArgumentParser()\n",
    "    parser.add_argument('--path', '-p', type=str, default='/opt/ml/detection/dataset')\n",
    "    parser.add_argument('--n_split', '-n', type=int, default=8)\n",
    "    arg = parser.parse_args()\n",
    "    main(arg)"
   ]
  },
  {
   "cell_type": "code",
   "execution_count": null,
   "metadata": {},
   "outputs": [],
   "source": []
  }
 ],
 "metadata": {
  "interpreter": {
   "hash": "f5d7164c64e63af887b53f785b7c056834a1b06812e2ab286d66941e0de4c0dd"
  },
  "kernelspec": {
   "display_name": "Python 3.7.11 ('mmdet')",
   "language": "python",
   "name": "python3"
  },
  "language_info": {
   "codemirror_mode": {
    "name": "ipython",
    "version": 3
   },
   "file_extension": ".py",
   "mimetype": "text/x-python",
   "name": "python",
   "nbconvert_exporter": "python",
   "pygments_lexer": "ipython3",
   "version": "3.7.11"
  },
  "orig_nbformat": 4
 },
 "nbformat": 4,
 "nbformat_minor": 2
}
