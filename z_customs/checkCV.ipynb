{
 "cells": [
  {
   "cell_type": "code",
   "execution_count": 1,
   "metadata": {},
   "outputs": [],
   "source": [
    "import pandas as pd\n",
    "import json"
   ]
  },
  {
   "cell_type": "code",
   "execution_count": 6,
   "metadata": {},
   "outputs": [],
   "source": [
    "with open('/opt/ml/detection/dataset/SK_train_annotations.json', 'r') as file:\n",
    "    train_ann = json.load(file)['annotations']\n",
    "\n",
    "with open('/opt/ml/detection/dataset/SK_val_annotations.json', 'r') as file:\n",
    "    val_ann = json.load(file)['annotations']\n"
   ]
  },
  {
   "cell_type": "code",
   "execution_count": 7,
   "metadata": {},
   "outputs": [
    {
     "name": "stdout",
     "output_type": "stream",
     "text": [
      "[280, 4655, 15571]\n",
      "[33, 539, 2066]\n"
     ]
    }
   ],
   "source": [
    "train_size = [0,0,0]\n",
    "val_size = [0,0,0]\n",
    "\n",
    "for ann in train_ann:\n",
    "    if ann['area'] <32**2:\n",
    "        train_size[0]+=1\n",
    "    elif ann['area'] < 96**2:\n",
    "        train_size[1]+=1\n",
    "    else:\n",
    "        train_size[2]+=1\n",
    "\n",
    "for ann in val_ann:\n",
    "    if ann['area'] <32**2:\n",
    "        val_size[0]+=1\n",
    "    elif ann['area'] < 96**2:\n",
    "        val_size[1]+=1\n",
    "    else:\n",
    "        val_size[2]+=1\n",
    "\n",
    "print(train_size)\n",
    "print(val_size)"
   ]
  },
  {
   "cell_type": "code",
   "execution_count": null,
   "metadata": {},
   "outputs": [],
   "source": []
  }
 ],
 "metadata": {
  "interpreter": {
   "hash": "f5d7164c64e63af887b53f785b7c056834a1b06812e2ab286d66941e0de4c0dd"
  },
  "kernelspec": {
   "display_name": "Python 3.7.11 ('mmdet')",
   "language": "python",
   "name": "python3"
  },
  "language_info": {
   "codemirror_mode": {
    "name": "ipython",
    "version": 3
   },
   "file_extension": ".py",
   "mimetype": "text/x-python",
   "name": "python",
   "nbconvert_exporter": "python",
   "pygments_lexer": "ipython3",
   "version": "3.7.11"
  },
  "orig_nbformat": 4
 },
 "nbformat": 4,
 "nbformat_minor": 2
}
