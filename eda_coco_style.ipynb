{
 "cells": [
  {
   "cell_type": "markdown",
   "metadata": {},
   "source": [
    "## Exploratory Data Analysis on MS-COCO style datasets"
   ]
  },
  {
   "cell_type": "code",
   "execution_count": 1,
   "metadata": {
    "vscode": {
     "languageId": "python"
    }
   },
   "outputs": [],
   "source": [
    "import json\n",
    "import pandas as pd\n",
    "import matplotlib.pyplot as plt\n",
    "import matplotlib\n",
    "import numpy as np\n",
    "import pdb\n",
    "import os\n",
    "from pycocotools.coco import COCO\n",
    "from skimage import io\n",
    "\n",
    "font = {'family' : 'Arial',\n",
    "        'weight' : 'normal',\n",
    "        'size'   : 12}\n",
    "\n",
    "matplotlib.rc('font', **font)"
   ]
  },
  {
   "cell_type": "markdown",
   "metadata": {},
   "source": [
    "## Setting the root directory and annotation json file"
   ]
  },
  {
   "cell_type": "code",
   "execution_count": 17,
   "metadata": {
    "vscode": {
     "languageId": "python"
    }
   },
   "outputs": [
    {
     "name": "stdout",
     "output_type": "stream",
     "text": [
      "loading annotations into memory...\n",
      "Done (t=0.29s)\n",
      "creating index...\n",
      "index created!\n"
     ]
    }
   ],
   "source": [
    "\n",
    "# src_root = '../../../../datasets/voc2012/'\n",
    "# src_subset = 'images/'\n",
    "# src_file = src_root+'annotations/instances_train2012.json'\n",
    "# src_desc = 'train2017_voc12' \n",
    "\n",
    "src_root = '/opt/ml/detection/dataset/'\n",
    "src_subset = ''\n",
    "src_file = src_root+'pseudo_labeling.json'\n",
    "src_desc = 'CocoDataset' # a name (identifier) for the dataset\n",
    "\n",
    "coco_obj = COCO(src_file)"
   ]
  },
  {
   "cell_type": "code",
   "execution_count": 18,
   "metadata": {
    "vscode": {
     "languageId": "python"
    }
   },
   "outputs": [
    {
     "data": {
      "text/plain": [
       "dict_keys(['info', 'licenses', 'categories', 'images', 'annotations'])"
      ]
     },
     "execution_count": 18,
     "metadata": {},
     "output_type": "execute_result"
    }
   ],
   "source": [
    "# Reading the json file\n",
    "with open(src_file, 'r') as f:\n",
    "    root = json.load(f)\n",
    "\n",
    "root.keys()"
   ]
  },
  {
   "cell_type": "markdown",
   "metadata": {},
   "source": [
    "## Basic High Level Information"
   ]
  },
  {
   "cell_type": "code",
   "execution_count": 19,
   "metadata": {
    "vscode": {
     "languageId": "python"
    }
   },
   "outputs": [
    {
     "name": "stdout",
     "output_type": "stream",
     "text": [
      "Dataset Name:  CocoDataset\n",
      "Number of images:  8970\n",
      "Number of bounding boxes:  32696\n",
      "Number of classes:  10\n",
      "Max min avg height:  1024 1024 1024\n",
      "Max min avg width:  1024 1024 1024\n"
     ]
    }
   ],
   "source": [
    "# Basic High Level Information\n",
    "\n",
    "n_images = len(root['images'])\n",
    "n_boxes = len(root['annotations'])\n",
    "n_categ = len(root['categories'])\n",
    "\n",
    "# height, width\n",
    "heights = [x['height'] for x in root['images']]\n",
    "widths = [x['width'] for x in root['images']]\n",
    "\n",
    "\n",
    "\n",
    "\n",
    "print('Dataset Name: ',src_desc)\n",
    "print('Number of images: ',n_images)\n",
    "print('Number of bounding boxes: ', n_boxes)\n",
    "print('Number of classes: ', n_categ)\n",
    "print('Max min avg height: ', max(heights), min(heights), int(sum(heights)/len(heights)))\n",
    "print('Max min avg width: ', max(widths), min(widths), int(sum(widths)/len(widths)))"
   ]
  },
  {
   "cell_type": "markdown",
   "metadata": {},
   "source": [
    "## Distribution of objects across images"
   ]
  },
  {
   "cell_type": "code",
   "execution_count": 20,
   "metadata": {
    "vscode": {
     "languageId": "python"
    }
   },
   "outputs": [],
   "source": [
    "# Objects per image distribution\n",
    "\n",
    "img2nboxes = {} # mapping \"image id\" to \"number of boxes\"\n",
    "\n",
    "for ann in root['annotations']:\n",
    "    img_id = ann['image_id']\n",
    "    \n",
    "    if img_id in img2nboxes.keys():\n",
    "        img2nboxes[img_id] += 1\n",
    "    else:\n",
    "        img2nboxes[img_id] = 1\n",
    "\n",
    "nboxes_list = list(img2nboxes.values())\n",
    "\n",
    "min_nboxes = min(nboxes_list)\n",
    "max_nboxes = max(nboxes_list)\n",
    "avg_nboxes = int(sum(nboxes_list)/len(nboxes_list))"
   ]
  },
  {
   "cell_type": "code",
   "execution_count": 21,
   "metadata": {
    "vscode": {
     "languageId": "python"
    }
   },
   "outputs": [
    {
     "data": {
      "image/png": "[encoded data removed]",
      "text/plain": [
       "<Figure size 720x360 with 1 Axes>"
      ]
     },
     "metadata": {
      "needs_background": "light"
     },
     "output_type": "display_data"
    },
    {
     "name": "stdout",
     "output_type": "stream",
     "text": [
      "Number of images having atleast one box:  8951\n",
      "Min number of boxes per image:  1\n",
      "Max number of boxes per image:  69\n",
      "Avg number of boxes per image:  3\n"
     ]
    }
   ],
   "source": [
    "out = pd.cut(nboxes_list, bins=np.arange(0,max_nboxes+10,10), include_lowest=True)\n",
    "\n",
    "counts = out.value_counts().values\n",
    "labels = [(int(i.left),int(i.right)) for i in out.value_counts().index.categories]\n",
    "\n",
    "graph_xind = [i[0] for i in labels] \n",
    "ticks = [ '('+str(i[0])+','+ str(i[1])+')' for i in labels]\n",
    "\n",
    "plt.figure(figsize=(10,5))\n",
    "plt.bar(graph_xind, counts, tick_label=ticks, width=5)\n",
    "plt.xlabel('Number of objects')\n",
    "plt.ylabel('Number of images')\n",
    "plt.title('Number of objects distribution over the dataset')\n",
    "plt.show()\n",
    "\n",
    "print(\"Number of images having atleast one box: \", len(nboxes_list))\n",
    "print(\"Min number of boxes per image: \", min_nboxes)\n",
    "print(\"Max number of boxes per image: \", max_nboxes)\n",
    "print(\"Avg number of boxes per image: \", avg_nboxes)"
   ]
  },
  {
   "cell_type": "markdown",
   "metadata": {},
   "source": [
    "## Class wise distribution of objects"
   ]
  },
  {
   "cell_type": "code",
   "execution_count": 22,
   "metadata": {
    "vscode": {
     "languageId": "python"
    }
   },
   "outputs": [
    {
     "data": {
      "image/png": "[encoded data removed]",
      "text/plain": [
       "<Figure size 720x360 with 1 Axes>"
      ]
     },
     "metadata": {
      "needs_background": "light"
     },
     "output_type": "display_data"
    },
    {
     "name": "stdout",
     "output_type": "stream",
     "text": [
      "0 -> General trash, 1 -> Paper, 2 -> Paper pack, 3 -> Metal, 4 -> Glass, 5 -> Plastic, 6 -> Styrofoam, 7 -> Plastic bag, 8 -> Battery, 9 -> Clothing, "
     ]
    }
   ],
   "source": [
    "# Class distribution\n",
    "class2nboxes = {} \n",
    "\n",
    "for ann in root['annotations']:\n",
    "    cat_id = ann['category_id']\n",
    "    \n",
    "    if cat_id in class2nboxes.keys():\n",
    "        class2nboxes[cat_id] += 1\n",
    "    else:\n",
    "        class2nboxes[cat_id] = 1\n",
    "\n",
    "sorted_c2nb = [(k,v)for k, v in sorted(class2nboxes.items(), reverse=True, key=lambda item: item[1])]\n",
    "\n",
    "# top 20 classes\n",
    "top = min(len(sorted_c2nb),20)\n",
    "\n",
    "# to plot\n",
    "y = [i[1] for i in sorted_c2nb[:top]]\n",
    "x = [i[0] for i in sorted_c2nb[:top]]\n",
    "\n",
    "plt.figure(figsize=(10,5))\n",
    "plt.bar(np.arange(len(y)),y, width=0.5,tick_label=x,color='orange')\n",
    "plt.xlim(-0.5,len(y))\n",
    "plt.xlabel('Category Id')\n",
    "plt.ylabel('Number of boxes')\n",
    "plt.title('Class distribution (decreasing order)')\n",
    "plt.show()\n",
    "\n",
    "\n",
    "\n",
    "categ_map = {x['id']: x['name'] for x in root['categories']}\n",
    "for k in categ_map.keys():\n",
    "    print(k,'->',categ_map[k], end=\", \")"
   ]
  },
  {
   "cell_type": "markdown",
   "metadata": {},
   "source": [
    "## Class wise bounding box area distribution"
   ]
  },
  {
   "cell_type": "code",
   "execution_count": 23,
   "metadata": {
    "vscode": {
     "languageId": "python"
    }
   },
   "outputs": [],
   "source": [
    "# Class wise bounding box area distribution\n",
    "\n",
    "bbox_areas = {} # key: class index, value -> a list of bounding box areas\n",
    "\n",
    "for ann in root['annotations']:\n",
    "    area = ann['area']\n",
    "    cat_id = ann['category_id']\n",
    "    \n",
    "    if area <= 0.0:\n",
    "        continue\n",
    "    \n",
    "    if cat_id in bbox_areas.keys():\n",
    "        bbox_areas[cat_id].append(area)\n",
    "    else:\n",
    "        bbox_areas[cat_id] = [area]\n",
    "\n",
    "\n",
    "bbox_avg_areas = []\n",
    "\n",
    "for cat in bbox_areas.keys():\n",
    "    areas = bbox_areas[cat]\n",
    "    avg_area = int(sum(areas)/len(areas))\n",
    "    \n",
    "    bbox_avg_areas.append((cat,avg_area))\n",
    "\n",
    "bbox_avg_areas = sorted(bbox_avg_areas, key = lambda x: x[1])"
   ]
  },
  {
   "cell_type": "code",
   "execution_count": 24,
   "metadata": {
    "vscode": {
     "languageId": "python"
    }
   },
   "outputs": [
    {
     "data": {
      "image/png": "[encoded data removed]",
      "text/plain": [
       "<Figure size 720x720 with 2 Axes>"
      ]
     },
     "metadata": {
      "needs_background": "light"
     },
     "output_type": "display_data"
    },
    {
     "name": "stdout",
     "output_type": "stream",
     "text": [
      "0 -> General trash, 1 -> Paper, 2 -> Paper pack, 3 -> Metal, 4 -> Glass, 5 -> Plastic, 6 -> Styrofoam, 7 -> Plastic bag, 8 -> Battery, 9 -> Clothing, "
     ]
    }
   ],
   "source": [
    "top = min(10, len(bbox_avg_areas))\n",
    "\n",
    "plt.figure(figsize=(10,10))\n",
    "\n",
    "y = [item[1] for item in bbox_avg_areas[-top:]]\n",
    "x = [item[0] for item in bbox_avg_areas[-top:]]\n",
    "\n",
    "y2 = [item[1] for item in bbox_avg_areas[:top]]\n",
    "x2 = [item[0] for item in bbox_avg_areas[:top]]\n",
    "\n",
    "plt.subplot(211)\n",
    "plt.bar(np.arange(len(y)),y, width=0.5,tick_label=x,color='green')\n",
    "plt.xlim(-0.5,len(y))\n",
    "# plt.xlabel('Category Id')\n",
    "plt.ylabel('Average bounding box area in pixel squared')\n",
    "plt.title('Top '+str(top)+' Classes with highest avg bounding box size')\n",
    "\n",
    "\n",
    "plt.subplot(212)\n",
    "plt.bar(np.arange(len(y2)),y2, width=0.5,tick_label=x2,color='red')\n",
    "plt.xlim(-0.5,len(y2))\n",
    "plt.xlabel('Category Id')\n",
    "plt.ylabel('Average bounding box area in pixel squared')\n",
    "plt.title('Top '+str(top)+' Classes with lowest avg bounding box size')\n",
    "plt.show()\n",
    "\n",
    "\n",
    "\n",
    "\n",
    "categ_map = {x['id']: x['name'] for x in root['categories']}\n",
    "for k in categ_map.keys():\n",
    "    print(k,'->',categ_map[k], end=\", \")"
   ]
  },
  {
   "cell_type": "markdown",
   "metadata": {},
   "source": [
    "## Viewing random images"
   ]
  },
  {
   "cell_type": "code",
   "execution_count": 25,
   "metadata": {
    "vscode": {
     "languageId": "python"
    }
   },
   "outputs": [
    {
     "data": {
      "application/vnd.jupyter.widget-view+json": {
       "model_id": "0f8417b3297248aabcfb952970de205c",
       "version_major": 2,
       "version_minor": 0
      },
      "text/plain": [
       "interactive(children=(IntSlider(value=4484, description='idx', max=8969), Output()), _dom_classes=('widget-int…"
      ]
     },
     "metadata": {},
     "output_type": "display_data"
    }
   ],
   "source": [
    "from PIL import Image\n",
    "from ipywidgets import interact\n",
    "import skimage.io as io\n",
    "import matplotlib.pyplot as plt\n",
    "from glob import glob\n",
    "import pandas as pd\n",
    "import matplotlib.patches as patches\n",
    "import seaborn as sns\n",
    "import pandas as pd\n",
    "# generate a random image\n",
    "imgIds = [i['id'] for i in root['images']]\n",
    "@interact(idx=(0, len(imgIds)-1))\n",
    "def showImg(idx):\n",
    "    catIds = [i['id'] for i in root['categories']]\n",
    "    img = coco_obj.loadImgs(imgIds[idx])[0]\n",
    "    img_path= os.path.join(src_root, src_subset, img['file_name'])\n",
    "    I = io.imread(img_path)\n",
    "\n",
    "    # plot annotations\n",
    "    plt.figure(figsize=(6,6))\n",
    "    plt.axis('off')\n",
    "    plt.imshow(I)\n",
    "    annIds = coco_obj.getAnnIds(imgIds=img['id'], catIds=catIds, iscrowd=None)\n",
    "    anns = coco_obj.loadAnns(annIds)\n",
    "    anns[0]['keypoints'] = None\n",
    "    #  disable segmentation\n",
    "    for a in anns:\n",
    "        if 'segmentation' in a.keys():\n",
    "            a['segmentation'] = []\n",
    "    coco_obj.showAnns(anns, draw_bbox=True)\n",
    "    classes = [categ_map[a['category_id']] for a in anns]\n",
    "    print(classes)"
   ]
  },
  {
   "cell_type": "code",
   "execution_count": null,
   "metadata": {
    "vscode": {
     "languageId": "python"
    }
   },
   "outputs": [],
   "source": []
  },
  {
   "cell_type": "code",
   "execution_count": null,
   "metadata": {
    "vscode": {
     "languageId": "python"
    }
   },
   "outputs": [],
   "source": []
  },
  {
   "cell_type": "code",
   "execution_count": null,
   "metadata": {
    "vscode": {
     "languageId": "python"
    }
   },
   "outputs": [],
   "source": []
  }
 ],
 "metadata": {
  "kernelspec": {
   "display_name": "detection",
   "language": "python",
   "name": "detection"
  }
 },
 "nbformat": 4,
 "nbformat_minor": 4
}
